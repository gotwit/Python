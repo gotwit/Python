{
 "cells": [
  {
   "cell_type": "code",
   "execution_count": null,
   "id": "877d92a7",
   "metadata": {},
   "outputs": [],
   "source": [
    "# keywords\n",
    "#1 False\n",
    "#2 None\n",
    "#3 True\n",
    "#4 and\n",
    "#5 as\n",
    "#6 assert\n",
    "#7 async\n",
    "#8 await\n",
    "#9 break\n",
    "#10 class\n",
    "#11 continue\n",
    "#12 def\n",
    "#13 del\n",
    "#14 elif\n",
    "#15 else\n",
    "#16 except\n",
    "#17 finally\n",
    "#18 for\n",
    "#19 from\n",
    "#20 global\n",
    "#21 if\n",
    "#22 import\n",
    "#23 in\n",
    "#24 is\n",
    "#25 lambda\n",
    "#26 nonlocal\n",
    "#27 not \n",
    "#28 or \n",
    "#29 pass\n",
    "#30 raise\n",
    "#31 return\n",
    "#32 try\n",
    "#33 while\n",
    "#34 with\n",
    "#35 yield"
   ]
  },
  {
   "cell_type": "code",
   "execution_count": null,
   "id": "24d8d188",
   "metadata": {},
   "outputs": [],
   "source": [
    "'''1. What sum of money lent out at compound interest will amount to Rs. 968 in 2 years\n",
    "at 10% per annum, interest being charged annually?\n",
    "'''"
   ]
  },
  {
   "cell_type": "code",
   "execution_count": null,
   "id": "30890120",
   "metadata": {},
   "outputs": [],
   "source": []
  },
  {
   "cell_type": "code",
   "execution_count": null,
   "id": "d041ee69",
   "metadata": {},
   "outputs": [],
   "source": [
    "'''2. A sum fetched a total simple interest of Rs. 4016.25 at the rate of 9 % p.a. in 5 years.\n",
    "What is the sum?\n",
    "'''"
   ]
  },
  {
   "cell_type": "code",
   "execution_count": null,
   "id": "3a39c7c8",
   "metadata": {},
   "outputs": [],
   "source": []
  },
  {
   "cell_type": "code",
   "execution_count": null,
   "id": "b3bfa18f",
   "metadata": {},
   "outputs": [],
   "source": [
    "'''3. In a college of 300 students, every student reads 5 newspapers and every newspaper\n",
    "is read by 60 students. The number of newspapers is\n",
    "'''"
   ]
  },
  {
   "cell_type": "code",
   "execution_count": null,
   "id": "c4bd81d9",
   "metadata": {},
   "outputs": [],
   "source": []
  },
  {
   "cell_type": "code",
   "execution_count": null,
   "id": "8bea8680",
   "metadata": {},
   "outputs": [],
   "source": [
    "'''4. In how many ways can 21 English and 19 Hindi books be placed in a row so that no\n",
    "two Hindi books are together\n",
    "'''"
   ]
  },
  {
   "cell_type": "code",
   "execution_count": null,
   "id": "a6dcd169",
   "metadata": {},
   "outputs": [],
   "source": []
  },
  {
   "cell_type": "code",
   "execution_count": null,
   "id": "89454dd5",
   "metadata": {},
   "outputs": [],
   "source": [
    "'''5. The prices of a Car and a Motorcycle are in the ratio 7 : 5. If the Car costs 8000 USD\n",
    "more than a Motorcycle set, then the price of a Car set is:\n",
    "'''"
   ]
  },
  {
   "cell_type": "code",
   "execution_count": null,
   "id": "d63e5176",
   "metadata": {},
   "outputs": [],
   "source": []
  },
  {
   "cell_type": "code",
   "execution_count": 6,
   "id": "fb26f210",
   "metadata": {},
   "outputs": [
    {
     "name": "stdout",
     "output_type": "stream",
     "text": [
      "Enter no of people: 3\n",
      "Enter bill total: 352\n",
      "Enter tip: 15\n",
      "Each person pay:  134.93333333333334\n",
      "\n",
      "Enter length of rectangle12.5\n",
      "Enter width of rectangle16.7\n",
      "area of  12.5  m by  16.7  m  208.75\n"
     ]
    }
   ],
   "source": [
    "'''6. Solve the following problems:\n",
    "6.1 Three people eat dinner at a restaurant and want to split the bill. The total\n",
    "is 352 Rs, and they want to leave a 15% tip. How much should each person pay?\n",
    "6.2 Calculate the area and perimeter of a rectangular room, 12.5 meters by 16.7\n",
    "meters.\n",
    "6.3 If there are 3 buildings with 25 Ninjas hiding on each roof and 2 tunnels\n",
    "with 40 Samurai hiding inside each tunnel, how many Ninjas and Samurai\n",
    "are about to do battle?\n",
    "'''\n",
    "# Solution 6.1\n",
    "# people = 3\n",
    "# total = 352\n",
    "# tip = 15/100\n",
    "\n",
    "people = int(input(\"Enter no of people: \"))\n",
    "total = float(input(\"Enter bill total: \"))\n",
    "tip = float(input(\"Enter tip: \"))\n",
    "tip = tip/100\n",
    "\n",
    "tipSplit = (total * tip) / people\n",
    "totalSplit = total/people\n",
    "pay = totalSplit + tipSplit\n",
    "print(\"Each person pay: \", pay)"
   ]
  },
  {
   "cell_type": "code",
   "execution_count": 7,
   "id": "1f10ea23",
   "metadata": {},
   "outputs": [
    {
     "name": "stdout",
     "output_type": "stream",
     "text": [
      "Enter length of rectangle: 12.5\n",
      "Enter width of rectangle: 16.7\n",
      "area of  12.5 m by  16.7 m  208.75\n"
     ]
    }
   ],
   "source": [
    "# Solution 6.2\n",
    "# 12.5 * 16.7\n",
    "# length = 12.5\n",
    "# width = 16.7\n",
    "length = float(input(\"Enter length of rectangle: \"))\n",
    "width = float(input(\"Enter width of rectangle: \"))\n",
    "area = length * width\n",
    "print(\"area of\", length, \"m by\", width, \"m \", area)"
   ]
  },
  {
   "cell_type": "code",
   "execution_count": 8,
   "id": "9616e5db",
   "metadata": {},
   "outputs": [
    {
     "name": "stdout",
     "output_type": "stream",
     "text": [
      "75 Ninjas and 80 Samurai will battle\n"
     ]
    }
   ],
   "source": [
    "'''6.3 If there are 3 buildings with 25 Ninjas hiding on each roof and 2 tunnels\n",
    "with 40 Samurai hiding inside each tunnel, how many Ninjas and Samurai\n",
    "are about to do battle?'''\n",
    "building = 3\n",
    "tunnels = 2\n",
    "ninjas = 25\n",
    "samurai = 40\n",
    "print(building * ninjas, \"Ninjas and\", tunnels * samurai, \"Samurai will battle\")"
   ]
  },
  {
   "cell_type": "code",
   "execution_count": null,
   "id": "e084d5f3",
   "metadata": {},
   "outputs": [],
   "source": []
  },
  {
   "cell_type": "code",
   "execution_count": 2,
   "id": "adbdc2c9",
   "metadata": {},
   "outputs": [
    {
     "name": "stdout",
     "output_type": "stream",
     "text": [
      "Enter no of years: 2\n",
      "minutes in  2  year  1051200\n"
     ]
    }
   ],
   "source": [
    "'''7. Write a program that calculates and prints the number of minutes in a year.'''\n",
    "year = int(input(\"Enter no of years: \"))\n",
    "months = 12\n",
    "days = 365\n",
    "hours = 24\n",
    "minutes = 60\n",
    "\n",
    "print(\"minutes in \", year, \" year \", year * days * hours * minutes)"
   ]
  },
  {
   "cell_type": "code",
   "execution_count": null,
   "id": "9f5ab664",
   "metadata": {},
   "outputs": [],
   "source": []
  },
  {
   "cell_type": "code",
   "execution_count": 4,
   "id": "b86bd844",
   "metadata": {},
   "outputs": [
    {
     "name": "stdout",
     "output_type": "stream",
     "text": [
      "9460800000000000.0\n"
     ]
    }
   ],
   "source": [
    "'''8. Light travels at 3 * 108 meters per second. A light-year is the distance a light beam\n",
    "\n",
    "travels in one year. Write a program that calculates and displays the value of a light-\n",
    "year.\n",
    "'''\n",
    "import math\n",
    "print(3.0 * math.pow(10,8) * 365 * 24 * 3600)"
   ]
  },
  {
   "cell_type": "code",
   "execution_count": null,
   "id": "67c14311",
   "metadata": {},
   "outputs": [],
   "source": [
    "'''9. Translate each of the following math expressions into a Python command.\n",
    "\n",
    "Assume that the math library has been imported (using import math).\n",
    "'''"
   ]
  },
  {
   "cell_type": "code",
   "execution_count": 8,
   "id": "b6744489",
   "metadata": {},
   "outputs": [
    {
     "name": "stdout",
     "output_type": "stream",
     "text": [
      "4.47213595499958\n"
     ]
    },
    {
     "data": {
      "text/plain": [
       "1.0"
      ]
     },
     "execution_count": 8,
     "metadata": {},
     "output_type": "execute_result"
    }
   ],
   "source": [
    "#a. \n",
    "(3+4)*5"
   ]
  },
  {
   "cell_type": "code",
   "execution_count": null,
   "id": "897cda51",
   "metadata": {},
   "outputs": [],
   "source": [
    "#b. \n",
    "n=10\n",
    "n*(n-1)/2"
   ]
  },
  {
   "cell_type": "code",
   "execution_count": null,
   "id": "b3774d14",
   "metadata": {},
   "outputs": [],
   "source": [
    "#c.\n",
    "r=20\n",
    "4*3.147*r*r"
   ]
  },
  {
   "cell_type": "code",
   "execution_count": null,
   "id": "cfaeb87d",
   "metadata": {},
   "outputs": [],
   "source": [
    "#d. \n",
    "import math\n",
    "a=30\n",
    "r=20\n",
    "print(math.sqrt(r*math.pow(math.cos(a),2)+r*math.pow(math.sin(a),2)))"
   ]
  },
  {
   "cell_type": "code",
   "execution_count": 12,
   "id": "785bf310",
   "metadata": {},
   "outputs": [
    {
     "data": {
      "text/plain": [
       "1.0"
      ]
     },
     "execution_count": 12,
     "metadata": {},
     "output_type": "execute_result"
    }
   ],
   "source": [
    "#e.\n",
    "y1=1\n",
    "y2=2\n",
    "x1=3\n",
    "x2=4\n",
    "(y2-y1)/(x2-x1)"
   ]
  },
  {
   "cell_type": "code",
   "execution_count": null,
   "id": "1074db21",
   "metadata": {},
   "outputs": [],
   "source": [
    "''' 10: Assume that x is 3 and y is 5. Write the values of the following expressions:\n",
    "a. x == y\n",
    "b. x > y - 3\n",
    "c. x <= y - 2\n",
    "d. x == y or x > 2\n",
    "e. x != 6 and y > 10\n",
    "f. x > 0 and x < 100\n",
    "'''"
   ]
  },
  {
   "cell_type": "code",
   "execution_count": 5,
   "id": "89386576",
   "metadata": {},
   "outputs": [
    {
     "data": {
      "text/plain": [
       "False"
      ]
     },
     "execution_count": 5,
     "metadata": {},
     "output_type": "execute_result"
    }
   ],
   "source": [
    "# a. x == y\n",
    "3 == 5"
   ]
  },
  {
   "cell_type": "code",
   "execution_count": 8,
   "id": "74f73977",
   "metadata": {},
   "outputs": [
    {
     "data": {
      "text/plain": [
       "True"
      ]
     },
     "execution_count": 8,
     "metadata": {},
     "output_type": "execute_result"
    }
   ],
   "source": [
    "# b. x > y - 3\n",
    "3 > 5 - 3\n",
    "# 3 > 2"
   ]
  },
  {
   "cell_type": "code",
   "execution_count": 9,
   "id": "31c5550f",
   "metadata": {},
   "outputs": [
    {
     "data": {
      "text/plain": [
       "True"
      ]
     },
     "execution_count": 9,
     "metadata": {},
     "output_type": "execute_result"
    }
   ],
   "source": [
    "# c. x <= y - 2\n",
    "3 <= 5 - 2\n",
    "# 3 <= 3"
   ]
  },
  {
   "cell_type": "code",
   "execution_count": 12,
   "id": "6dbd3e98",
   "metadata": {},
   "outputs": [
    {
     "data": {
      "text/plain": [
       "True"
      ]
     },
     "execution_count": 12,
     "metadata": {},
     "output_type": "execute_result"
    }
   ],
   "source": [
    "# d. x == y or x > 2\n",
    "3 == 5 or 3 > 2\n",
    "# False or True"
   ]
  },
  {
   "cell_type": "code",
   "execution_count": 13,
   "id": "0d170faa",
   "metadata": {},
   "outputs": [
    {
     "data": {
      "text/plain": [
       "False"
      ]
     },
     "execution_count": 13,
     "metadata": {},
     "output_type": "execute_result"
    }
   ],
   "source": [
    "# e. x != 6 and y > 10\n",
    "3 != 6 and 5 > 10\n",
    "# True and False"
   ]
  },
  {
   "cell_type": "code",
   "execution_count": 16,
   "id": "560d6a88",
   "metadata": {},
   "outputs": [
    {
     "data": {
      "text/plain": [
       "True"
      ]
     },
     "execution_count": 16,
     "metadata": {},
     "output_type": "execute_result"
    }
   ],
   "source": [
    "# f. x > 0 and x < 100\n",
    "3 > 0 and 5 < 100\n",
    "# True and True"
   ]
  },
  {
   "cell_type": "code",
   "execution_count": null,
   "id": "9dc6e265",
   "metadata": {},
   "outputs": [],
   "source": []
  },
  {
   "cell_type": "code",
   "execution_count": 20,
   "id": "c5fa9359",
   "metadata": {},
   "outputs": [
    {
     "name": "stdout",
     "output_type": "stream",
     "text": [
      "Enter person's weight: 85\n",
      "Enter person's height: 5.5\n",
      "BMI:  30.979338842975206 , Person is above healthy range\n"
     ]
    }
   ],
   "source": [
    "'''\n",
    "12. The body mass index (BMI) is calculated as a person’s weight (in pounds) times 720, divided by the square of the person’s height (in inches). A BMI in the range 19–25 is\n",
    "healthy. Write a program that calculates a person’s BMI and prints a message telling whether they are above, within, or below the healthy range.\n",
    "'''\n",
    "weight = float(input(\"Enter person's weight: \"))\n",
    "height = float(input(\"Enter person's height: \"))\n",
    "weightInPounds = weight * 2.205\n",
    "heightInInches = height * 12\n",
    "bmi= (weightInPounds * 720.0) / (heightInInches ** 2)\n",
    "if bmi < 19:\n",
    "    print(\"BMI: \",bmi ,\", Person is below healthy range\", end=\"\\n\")\n",
    "elif bmi > 25:\n",
    "    print(\"BMI: \",bmi ,\", Person is above healthy range\", end=\"\\n\")\n",
    "else:\n",
    "    print(\"BMI: \",bmi ,\", Person is within healthy range\", end=\"\\n\")"
   ]
  },
  {
   "cell_type": "code",
   "execution_count": 25,
   "id": "035cc2a9",
   "metadata": {},
   "outputs": [
    {
     "name": "stdout",
     "output_type": "stream",
     "text": [
      "Enter 3 digit number: 363\n",
      "1 % 3\n",
      "1 // 0\n",
      "Middle digit is not equal to sum of first and last digit\n"
     ]
    }
   ],
   "source": [
    "'''\n",
    "13. Write a program which prompts the user for a 3 digit integer and checks whether the middle digit is equal to the sum of the other two digits. The program should print an appropriate response. Hint: use the // and % operations.\n",
    "Middle digit is equal to sum of first and last digit\n",
    "363\n",
    "484\n",
    "121\n",
    "\n",
    "Middle digit is not equal to sum of first and last digit\n",
    "243\n",
    "\n",
    "'''\n",
    "num = int(input(\"Enter 3 digit number: \"))\n",
    "if len(str(num)) > 3:\n",
    "    print(\"Invalid entry, Please enter 3 digit number only\")\n",
    "else:\n",
    "    sums = 0\n",
    "    middle = 0\n",
    "    temp = num\n",
    "    i = 1\n",
    "    while temp > 0:\n",
    "        temp = temp % 10\n",
    "        print(i, \"%\", temp)\n",
    "        if i == 2:\n",
    "            middle = temp\n",
    "        else:\n",
    "            sums = sums + temp\n",
    "        temp = temp // 10\n",
    "        print(i, \"//\", temp)\n",
    "        i = i + 1\n",
    "    if middle == sums:\n",
    "      print('Middle digit is equal to sum of first and last digit')\n",
    "    else:\n",
    "      print(\"Middle digit is not equal to sum of first and last digit\")"
   ]
  },
  {
   "cell_type": "code",
   "execution_count": null,
   "id": "5e32f631",
   "metadata": {},
   "outputs": [],
   "source": [
    "'''\n",
    "14. Accept the distance in Meter from User and Convert into, foot, yard, mile, meter, kilometer and inches\n",
    "\n",
    "Distance\n",
    "1 foot = 12 inches\n",
    "1 yard = 3 feet\n",
    "1 mile = 5,280 feet\n",
    "1 mile ≈ 1.61 kilometers\n",
    "1 inch = 2.54 centimeters\n",
    "1 foot = 0.3048 meters\n",
    "1 meter = 1,000 millimeters\n",
    "1 meter = 100 centimeters\n",
    "1 kilometer = 1,000 meters\n",
    "1 kilometer ≈ 0.62 miles\n",
    "'''"
   ]
  },
  {
   "cell_type": "code",
   "execution_count": null,
   "id": "5aa73d36",
   "metadata": {},
   "outputs": [],
   "source": []
  },
  {
   "cell_type": "code",
   "execution_count": null,
   "id": "53c36178",
   "metadata": {},
   "outputs": [],
   "source": [
    "'''15.Write a Python program to convert temperatures to and from celsius,\n",
    "fahrenheit.\n",
    "[ Formula : c/5 = f-32/9 [ where c = temperature in celsius and f =\n",
    "temperature in fahrenheit ]\n",
    "'''"
   ]
  },
  {
   "cell_type": "code",
   "execution_count": null,
   "id": "258439e6",
   "metadata": {},
   "outputs": [],
   "source": []
  }
 ],
 "metadata": {
  "kernelspec": {
   "display_name": "Python 3 (ipykernel)",
   "language": "python",
   "name": "python3"
  },
  "language_info": {
   "codemirror_mode": {
    "name": "ipython",
    "version": 3
   },
   "file_extension": ".py",
   "mimetype": "text/x-python",
   "name": "python",
   "nbconvert_exporter": "python",
   "pygments_lexer": "ipython3",
   "version": "3.10.2"
  }
 },
 "nbformat": 4,
 "nbformat_minor": 5
}
