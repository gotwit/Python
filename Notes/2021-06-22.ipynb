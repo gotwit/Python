{
 "cells": [
  {
   "cell_type": "code",
   "execution_count": 4,
   "id": "b10792bc",
   "metadata": {},
   "outputs": [
    {
     "name": "stdout",
     "output_type": "stream",
     "text": [
      "Enter your name: Om Gan Ganapataye Namaha\n",
      "Om Gan Ganapataye Namaha\n"
     ]
    }
   ],
   "source": [
    "name = input(\"Enter your name: \")\n",
    "print(name)"
   ]
  },
  {
   "cell_type": "code",
   "execution_count": null,
   "id": "97aa8b70",
   "metadata": {},
   "outputs": [],
   "source": []
  },
  {
   "cell_type": "code",
   "execution_count": null,
   "id": "cddba87f",
   "metadata": {},
   "outputs": [],
   "source": []
  },
  {
   "cell_type": "code",
   "execution_count": 5,
   "id": "bd555114",
   "metadata": {},
   "outputs": [
    {
     "name": "stdout",
     "output_type": "stream",
     "text": [
      "Enter num1: 2\n",
      "Enter num2: 3\n"
     ]
    },
    {
     "ename": "TypeError",
     "evalue": "can't multiply sequence by non-int of type 'str'",
     "output_type": "error",
     "traceback": [
      "\u001b[1;31m---------------------------------------------------------------------------\u001b[0m",
      "\u001b[1;31mTypeError\u001b[0m                                 Traceback (most recent call last)",
      "\u001b[1;32m<ipython-input-5-9c1487cecede>\u001b[0m in \u001b[0;36m<module>\u001b[1;34m\u001b[0m\n\u001b[0;32m      2\u001b[0m \u001b[0mnum1\u001b[0m \u001b[1;33m=\u001b[0m \u001b[0minput\u001b[0m\u001b[1;33m(\u001b[0m\u001b[1;34m\"Enter num1: \"\u001b[0m\u001b[1;33m)\u001b[0m\u001b[1;33m\u001b[0m\u001b[1;33m\u001b[0m\u001b[0m\n\u001b[0;32m      3\u001b[0m \u001b[0mnum2\u001b[0m \u001b[1;33m=\u001b[0m \u001b[0minput\u001b[0m\u001b[1;33m(\u001b[0m\u001b[1;34m\"Enter num2: \"\u001b[0m\u001b[1;33m)\u001b[0m\u001b[1;33m\u001b[0m\u001b[1;33m\u001b[0m\u001b[0m\n\u001b[1;32m----> 4\u001b[1;33m \u001b[0mnum\u001b[0m \u001b[1;33m=\u001b[0m \u001b[0mnum1\u001b[0m \u001b[1;33m*\u001b[0m \u001b[0mnum2\u001b[0m\u001b[1;33m\u001b[0m\u001b[1;33m\u001b[0m\u001b[0m\n\u001b[0m\u001b[0;32m      5\u001b[0m \u001b[0mprint\u001b[0m\u001b[1;33m(\u001b[0m\u001b[0mnum\u001b[0m\u001b[1;33m)\u001b[0m\u001b[1;33m\u001b[0m\u001b[1;33m\u001b[0m\u001b[0m\n",
      "\u001b[1;31mTypeError\u001b[0m: can't multiply sequence by non-int of type 'str'"
     ]
    }
   ],
   "source": [
    "# Multipy 2 numbers\n",
    "num1 = input(\"Enter num1: \")\n",
    "num2 = input(\"Enter num2: \")\n",
    "num = num1 * num2\n",
    "print(num)"
   ]
  },
  {
   "cell_type": "code",
   "execution_count": 7,
   "id": "2acbbd83",
   "metadata": {},
   "outputs": [
    {
     "name": "stdout",
     "output_type": "stream",
     "text": [
      "Enter num1: 2\n",
      "Enter num2: 3\n",
      "6\n"
     ]
    }
   ],
   "source": [
    "# Multipy 2 numbers\n",
    "num1 = int(input(\"Enter num1: \"))\n",
    "num2 = int(input(\"Enter num2: \"))\n",
    "num = num1 * num2\n",
    "print(num)"
   ]
  },
  {
   "cell_type": "code",
   "execution_count": 19,
   "id": "58d34779",
   "metadata": {},
   "outputs": [
    {
     "name": "stdout",
     "output_type": "stream",
     "text": [
      "Enter numbers b/w 0 to 9-4\n",
      "num is less than 0\n"
     ]
    }
   ],
   "source": [
    "# Selection using if: elif: else:\n",
    "num = int(input(\"Enter numbers b/w 0 to 9\"))\n",
    "\n",
    "if(num > 0 and num < 10):\n",
    "    print(\"num is b/w 0 - 9\")\n",
    "elif(num > 9):\n",
    "    print(\"num is greater than 9\")\n",
    "else:\n",
    "    print(\"num is less than 0\")"
   ]
  },
  {
   "cell_type": "code",
   "execution_count": 22,
   "id": "49916a80",
   "metadata": {},
   "outputs": [
    {
     "name": "stdout",
     "output_type": "stream",
     "text": [
      "Om Namaha Shivaya\n"
     ]
    },
    {
     "ename": "TypeError",
     "evalue": "namaste() missing 1 required positional argument: 'greeting'",
     "output_type": "error",
     "traceback": [
      "\u001b[1;31m---------------------------------------------------------------------------\u001b[0m",
      "\u001b[1;31mTypeError\u001b[0m                                 Traceback (most recent call last)",
      "\u001b[1;32m<ipython-input-22-d389b3e82206>\u001b[0m in \u001b[0;36m<module>\u001b[1;34m\u001b[0m\n\u001b[0;32m      4\u001b[0m \u001b[1;33m\u001b[0m\u001b[0m\n\u001b[0;32m      5\u001b[0m \u001b[0mnamaste\u001b[0m\u001b[1;33m(\u001b[0m\u001b[1;34m\"Om Namaha Shivaya\"\u001b[0m\u001b[1;33m)\u001b[0m\u001b[1;33m\u001b[0m\u001b[1;33m\u001b[0m\u001b[0m\n\u001b[1;32m----> 6\u001b[1;33m \u001b[0mnamaste\u001b[0m\u001b[1;33m(\u001b[0m\u001b[1;33m)\u001b[0m\u001b[1;33m\u001b[0m\u001b[1;33m\u001b[0m\u001b[0m\n\u001b[0m",
      "\u001b[1;31mTypeError\u001b[0m: namaste() missing 1 required positional argument: 'greeting'"
     ]
    }
   ],
   "source": [
    "# function\n",
    "def namaste(param):\n",
    "    print(param)\n",
    "\n",
    "namaste(\"Om Namaha Shivaya\")\n",
    "namaste()"
   ]
  },
  {
   "cell_type": "code",
   "execution_count": 23,
   "id": "20d1e5a0",
   "metadata": {},
   "outputs": [
    {
     "name": "stdout",
     "output_type": "stream",
     "text": [
      "Start from main function\n",
      "Enter name: Hello, World\n",
      "Hello, World\n"
     ]
    }
   ],
   "source": [
    "# function with main\n",
    "def get():\n",
    "    var = input(\"Enter name: \")\n",
    "    return var\n",
    "\n",
    "def main():\n",
    "    print(\"Start from main function\")\n",
    "    result = get()\n",
    "    print(result)\n",
    "    \n",
    "if __name__ == \"__main__\":\n",
    "    main()"
   ]
  },
  {
   "cell_type": "code",
   "execution_count": 24,
   "id": "d04cbe28",
   "metadata": {},
   "outputs": [
    {
     "name": "stdout",
     "output_type": "stream",
     "text": [
      "0\n",
      "1\n",
      "2\n",
      "3\n",
      "4\n"
     ]
    }
   ],
   "source": [
    "# for loop\n",
    "for i in range(5):\n",
    "    print(i)"
   ]
  },
  {
   "cell_type": "code",
   "execution_count": 26,
   "id": "141216b1",
   "metadata": {},
   "outputs": [
    {
     "name": "stdout",
     "output_type": "stream",
     "text": [
      "Enter num: -14\n",
      "14.0\n"
     ]
    }
   ],
   "source": [
    "# module\n",
    "import math\n",
    "\n",
    "def get():\n",
    "    var = int(input(\"Enter num: \"))\n",
    "    \"\"\"print(var)\"\"\"\n",
    "    return var\n",
    "\n",
    "def main():\n",
    "    result = math.fabs(get())\n",
    "    print(result)\n",
    "\n",
    "if __name__ == \"__main__\":\n",
    "    main()\n",
    "\n",
    "    "
   ]
  },
  {
   "cell_type": "code",
   "execution_count": 28,
   "id": "ceb49852",
   "metadata": {},
   "outputs": [
    {
     "name": "stdout",
     "output_type": "stream",
     "text": [
      "True\n",
      "False\n",
      "False\n",
      "True\n"
     ]
    }
   ],
   "source": [
    "print(False == 0)\n",
    "print(True == 0)\n",
    "print(False == 1)\n",
    "print(True == 1)"
   ]
  },
  {
   "cell_type": "code",
   "execution_count": 29,
   "id": "de974154",
   "metadata": {},
   "outputs": [
    {
     "name": "stdout",
     "output_type": "stream",
     "text": [
      "True\n",
      "False\n",
      "False\n",
      "False\n"
     ]
    }
   ],
   "source": [
    "# logical and operation\n",
    "print(True and True)\n",
    "print(True and False)\n",
    "print(False and True)\n",
    "print(False and False)"
   ]
  },
  {
   "cell_type": "code",
   "execution_count": 30,
   "id": "bbbb01d3",
   "metadata": {},
   "outputs": [
    {
     "name": "stdout",
     "output_type": "stream",
     "text": [
      "0\n",
      "10\n",
      "10\n"
     ]
    }
   ],
   "source": [
    "print(3 and 0)\n",
    "print(3 and 10)\n",
    "print(10 or 20 or 30 or 10 or 70)"
   ]
  },
  {
   "cell_type": "code",
   "execution_count": 33,
   "id": "9be8d292",
   "metadata": {},
   "outputs": [
    {
     "name": "stdout",
     "output_type": "stream",
     "text": [
      "3\n",
      "3\n",
      "30\n"
     ]
    }
   ],
   "source": [
    "print(3 or 0)\n",
    "print(3 or 10)\n",
    "print(0 or 0 or 30 or 10 or 0)"
   ]
  },
  {
   "cell_type": "code",
   "execution_count": 38,
   "id": "1a0b1775",
   "metadata": {},
   "outputs": [
    {
     "name": "stdout",
     "output_type": "stream",
     "text": [
      "True\n",
      "False\n",
      "False\n",
      "True\n"
     ]
    }
   ],
   "source": [
    "x = True\n",
    "print(x)\n",
    "print(not x)\n",
    "\n",
    "y = False\n",
    "print(y)\n",
    "print(not y)"
   ]
  },
  {
   "cell_type": "code",
   "execution_count": 42,
   "id": "d6fc3b38",
   "metadata": {},
   "outputs": [
    {
     "name": "stdout",
     "output_type": "stream",
     "text": [
      "False\n",
      "False\n",
      "False\n",
      "False\n",
      "True\n"
     ]
    }
   ],
   "source": [
    "print(None == 0)\n",
    "print(None == 1)\n",
    "print(None == False)\n",
    "print(None == True)\n",
    "print(None == None)"
   ]
  },
  {
   "cell_type": "code",
   "execution_count": 50,
   "id": "8a405fa1",
   "metadata": {},
   "outputs": [
    {
     "name": "stdout",
     "output_type": "stream",
     "text": [
      "list before deleting any value\n",
      "[10, 11, 12]\n",
      "list after deleting value\n",
      "[10, 12]\n"
     ]
    },
    {
     "ename": "AssertionError",
     "evalue": "5 is not smaller than 5",
     "output_type": "error",
     "traceback": [
      "\u001b[1;31m---------------------------------------------------------------------------\u001b[0m",
      "\u001b[1;31mAssertionError\u001b[0m                            Traceback (most recent call last)",
      "\u001b[1;32m<ipython-input-50-10dd63d5fc02>\u001b[0m in \u001b[0;36m<module>\u001b[1;34m\u001b[0m\n\u001b[0;32m      7\u001b[0m \u001b[1;33m\u001b[0m\u001b[0m\n\u001b[0;32m      8\u001b[0m \u001b[1;31m# assert if True nothing happens. Otherwise raises \"AssertionError\" error message can be print separated by comma\u001b[0m\u001b[1;33m\u001b[0m\u001b[1;33m\u001b[0m\u001b[1;33m\u001b[0m\u001b[0m\n\u001b[1;32m----> 9\u001b[1;33m \u001b[1;32massert\u001b[0m \u001b[1;36m5\u001b[0m \u001b[1;33m<\u001b[0m \u001b[1;36m5\u001b[0m\u001b[1;33m,\u001b[0m \u001b[1;34m\"5 is not smaller than 5\"\u001b[0m\u001b[1;33m\u001b[0m\u001b[1;33m\u001b[0m\u001b[0m\n\u001b[0m",
      "\u001b[1;31mAssertionError\u001b[0m: 5 is not smaller than 5"
     ]
    }
   ],
   "source": [
    "lst = [10, 11, 12]\n",
    "print(\"list before deleting any value\")\n",
    "print(lst)\n",
    "print(\"list after deleting value\")\n",
    "del lst[1]\n",
    "print(lst)\n",
    "\n",
    "# assert if True nothing happens. Otherwise raises \"AssertionError\" error message can be print separated by comma\n",
    "assert 5 < 5, \"5 is not smaller than 5\""
   ]
  },
  {
   "cell_type": "code",
   "execution_count": 52,
   "id": "8d6724c6",
   "metadata": {},
   "outputs": [
    {
     "name": "stdout",
     "output_type": "stream",
     "text": [
      "None\n"
     ]
    }
   ],
   "source": [
    "print(None)"
   ]
  },
  {
   "cell_type": "code",
   "execution_count": 54,
   "id": "89934af3",
   "metadata": {},
   "outputs": [
    {
     "name": "stdout",
     "output_type": "stream",
     "text": [
      "y is part of 'Om Namaha Shivaya'\n"
     ]
    }
   ],
   "source": [
    "if 'y' in 'Om Namaha Shivaya':\n",
    "    print(\"y is part of 'Om Namaha Shivaya'\")\n",
    "else:\n",
    "    print(\"y is not part of 'Om Namaha Shivaya'\")"
   ]
  },
  {
   "cell_type": "code",
   "execution_count": 58,
   "id": "73d9fdc0",
   "metadata": {},
   "outputs": [
    {
     "name": "stdout",
     "output_type": "stream",
     "text": [
      "z is not part of 'Om Namaha Shivaya'\n"
     ]
    }
   ],
   "source": [
    "if 'z' in 'Om Namaha Shivaya':\n",
    "    print(\"z is part of 'Om Namaha Shivaya'\")\n",
    "else:\n",
    "    print(\"z is not part of 'Om Namaha Shivaya'\")"
   ]
  },
  {
   "cell_type": "code",
   "execution_count": 59,
   "id": "8cc8f569",
   "metadata": {},
   "outputs": [
    {
     "name": "stdout",
     "output_type": "stream",
     "text": [
      "O m N a m a h a S h i v a y a \n"
     ]
    }
   ],
   "source": [
    "for i in 'OmNamahaShivaya':\n",
    "    print(i, end=\" \")\n",
    "print()"
   ]
  },
  {
   "cell_type": "code",
   "execution_count": 65,
   "id": "386b161a",
   "metadata": {},
   "outputs": [
    {
     "name": "stdout",
     "output_type": "stream",
     "text": [
      "True\n",
      "True\n"
     ]
    },
    {
     "name": "stderr",
     "output_type": "stream",
     "text": [
      "<>:1: SyntaxWarning: \"is\" with a literal. Did you mean \"==\"?\n",
      "<>:2: SyntaxWarning: \"is\" with a literal. Did you mean \"==\"?\n",
      "<>:1: SyntaxWarning: \"is\" with a literal. Did you mean \"==\"?\n",
      "<>:2: SyntaxWarning: \"is\" with a literal. Did you mean \"==\"?\n",
      "<ipython-input-65-846ea16f643f>:1: SyntaxWarning: \"is\" with a literal. Did you mean \"==\"?\n",
      "  print(' ' is ' ')\n",
      "<ipython-input-65-846ea16f643f>:2: SyntaxWarning: \"is\" with a literal. Did you mean \"==\"?\n",
      "  print(\" \" is \" \")\n"
     ]
    }
   ],
   "source": [
    "print(' ' is ' ')\n",
    "print(\" \" is \" \")"
   ]
  },
  {
   "cell_type": "code",
   "execution_count": 66,
   "id": "65b6e75c",
   "metadata": {},
   "outputs": [
    {
     "name": "stdout",
     "output_type": "stream",
     "text": [
      "True\n"
     ]
    }
   ],
   "source": [
    "# string is immutable\n",
    "print(\" \" == \" \")"
   ]
  },
  {
   "cell_type": "code",
   "execution_count": 69,
   "id": "456f8c1f",
   "metadata": {},
   "outputs": [
    {
     "name": "stdout",
     "output_type": "stream",
     "text": [
      "False\n"
     ]
    }
   ],
   "source": [
    "# dictionary, list are mutable\n",
    "print({} is {})"
   ]
  },
  {
   "cell_type": "code",
   "execution_count": 71,
   "id": "9ce366ba",
   "metadata": {},
   "outputs": [
    {
     "name": "stdout",
     "output_type": "stream",
     "text": [
      "Value of var using non local:  10\n"
     ]
    }
   ],
   "source": [
    "# demo nonlocal\n",
    "# inner function changing the value of ourter variable\n",
    "print(\"Value of var using non local: \", end=\" \")\n",
    "\n",
    "def outer():\n",
    "    var = 5\n",
    "    \n",
    "    def inner():\n",
    "        nonlocal var\n",
    "        var = 10\n",
    "    inner()\n",
    "    print(var)\n",
    "\n",
    "outer()"
   ]
  },
  {
   "cell_type": "code",
   "execution_count": 74,
   "id": "d77d1b2b",
   "metadata": {},
   "outputs": [
    {
     "name": "stdout",
     "output_type": "stream",
     "text": [
      "Value of variable without using nonlocal:  5\n"
     ]
    }
   ],
   "source": [
    "# demo without nonlocal\n",
    "# inner function not changing the value of outer variable\n",
    "print(\"Value of variable without using nonlocal: \", end=\" \")\n",
    "\n",
    "def outer():\n",
    "    var = 5\n",
    "    \n",
    "    def inner():\n",
    "        var = 10\n",
    "    inner()\n",
    "    print(var)\n",
    "\n",
    "outer()"
   ]
  },
  {
   "cell_type": "code",
   "execution_count": null,
   "id": "f23b2129",
   "metadata": {},
   "outputs": [],
   "source": [
    "var = 10\n",
    "\n",
    "def get():\n",
    "    print(var)\n",
    "\n",
    "def update():\n",
    "    global var\n",
    "    var = 5\n",
    "\n",
    "def modify():\n",
    "    var = 15\n",
    "\n",
    "# reading initial value of a\n",
    "# prints 10\n",
    "get()\n",
    " \n",
    "# calling mod 1 function to modify value\n",
    "# modifies value of global a to 5\n",
    "update()\n",
    " \n",
    "# reading modified value\n",
    "# prints 5\n",
    "get()\n",
    " \n",
    "# calling mod 2 function to modify value\n",
    "# modifies value of local a to 15, doesn't effect global value\n",
    "modify()\n",
    " \n",
    "# reading modified value\n",
    "# again prints 5\n",
    "get()\n",
    "\n",
    "# demo nonlocal\n",
    "# inner function changing the value of ourter variable\n",
    "print(\"Value of var using non local: \", end=\" \")\n",
    "\n",
    "def outer():\n",
    "    var = 5\n",
    "    \n",
    "    def inner():\n",
    "        nonlocal var\n",
    "        var = 10\n",
    "    inner()\n",
    "    print(var)\n",
    "\n",
    "outer()\n",
    "\n",
    "\n",
    "# demo without nonlocal\n",
    "# inner function not changing the value of outer variable\n",
    "print(\"Value of variable without using nonlocal: \", end=\" \")\n",
    "\n",
    "def outer():\n",
    "    var = 5\n",
    "    \n",
    "    def inner():\n",
    "        var = 10\n",
    "    inner()\n",
    "    print(var)\n",
    "\n",
    "outer()"
   ]
  }
 ],
 "metadata": {
  "kernelspec": {
   "display_name": "Python 3",
   "language": "python",
   "name": "python3"
  },
  "language_info": {
   "codemirror_mode": {
    "name": "ipython",
    "version": 3
   },
   "file_extension": ".py",
   "mimetype": "text/x-python",
   "name": "python",
   "nbconvert_exporter": "python",
   "pygments_lexer": "ipython3",
   "version": "3.9.5"
  }
 },
 "nbformat": 4,
 "nbformat_minor": 5
}
