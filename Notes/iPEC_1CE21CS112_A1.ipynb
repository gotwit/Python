{
 "cells": [
  {
   "cell_type": "code",
   "execution_count": null,
   "id": "26e81ba6",
   "metadata": {},
   "outputs": [],
   "source": [
    "''' 10: Assume that x is 3 and y is 5. Write the values of the following expressions:\n",
    "a. x == y\n",
    "b. x > y - 3\n",
    "c. x <= y - 2\n",
    "d. x == y or x > 2\n",
    "e. x != 6 and y > 10\n",
    "f. x > 0 and x < 100\n",
    "'''"
   ]
  },
  {
   "cell_type": "code",
   "execution_count": 5,
   "id": "ddfed69e",
   "metadata": {},
   "outputs": [
    {
     "data": {
      "text/plain": [
       "False"
      ]
     },
     "execution_count": 5,
     "metadata": {},
     "output_type": "execute_result"
    }
   ],
   "source": [
    "# a. x == y\n",
    "3 == 5"
   ]
  },
  {
   "cell_type": "code",
   "execution_count": 8,
   "id": "725b0c20",
   "metadata": {},
   "outputs": [
    {
     "data": {
      "text/plain": [
       "True"
      ]
     },
     "execution_count": 8,
     "metadata": {},
     "output_type": "execute_result"
    }
   ],
   "source": [
    "# b. x > y - 3\n",
    "3 > 5 - 3\n",
    "# 3 > 2"
   ]
  },
  {
   "cell_type": "code",
   "execution_count": 9,
   "id": "2c472d17",
   "metadata": {},
   "outputs": [
    {
     "data": {
      "text/plain": [
       "True"
      ]
     },
     "execution_count": 9,
     "metadata": {},
     "output_type": "execute_result"
    }
   ],
   "source": [
    "# c. x <= y - 2\n",
    "3 <= 5 - 2\n",
    "# 3 <= 3"
   ]
  },
  {
   "cell_type": "code",
   "execution_count": 12,
   "id": "470d2d34",
   "metadata": {},
   "outputs": [
    {
     "data": {
      "text/plain": [
       "True"
      ]
     },
     "execution_count": 12,
     "metadata": {},
     "output_type": "execute_result"
    }
   ],
   "source": [
    "# d. x == y or x > 2\n",
    "3 == 5 or 3 > 2\n",
    "# False or True"
   ]
  },
  {
   "cell_type": "code",
   "execution_count": 13,
   "id": "164913f0",
   "metadata": {},
   "outputs": [
    {
     "data": {
      "text/plain": [
       "False"
      ]
     },
     "execution_count": 13,
     "metadata": {},
     "output_type": "execute_result"
    }
   ],
   "source": [
    "# e. x != 6 and y > 10\n",
    "3 != 6 and 5 > 10\n",
    "# True and False"
   ]
  },
  {
   "cell_type": "code",
   "execution_count": 16,
   "id": "751ac28c",
   "metadata": {},
   "outputs": [
    {
     "data": {
      "text/plain": [
       "True"
      ]
     },
     "execution_count": 16,
     "metadata": {},
     "output_type": "execute_result"
    }
   ],
   "source": [
    "# f. x > 0 and x < 100\n",
    "3 > 0 and 5 < 100\n",
    "# True and True"
   ]
  },
  {
   "cell_type": "code",
   "execution_count": 20,
   "id": "7e566d81",
   "metadata": {},
   "outputs": [
    {
     "name": "stdout",
     "output_type": "stream",
     "text": [
      "Enter person's weight: 85\n",
      "Enter person's height: 5.5\n",
      "BMI:  30.979338842975206 , Person is above healthy range\n"
     ]
    }
   ],
   "source": [
    "'''\n",
    "12. The body mass index (BMI) is calculated as a person’s weight (in pounds) times 720, divided by the square of the person’s height (in inches). A BMI in the range 19–25 is\n",
    "healthy. Write a program that calculates a person’s BMI and prints a message telling whether they are above, within, or below the healthy range.\n",
    "'''\n",
    "weight = float(input(\"Enter person's weight: \"))\n",
    "height = float(input(\"Enter person's height: \"))\n",
    "weightInPounds = weight * 2.205\n",
    "heightInInches = height * 12\n",
    "bmi= (weightInPounds * 720.0) / (heightInInches ** 2)\n",
    "if bmi < 19:\n",
    "    print(\"BMI: \",bmi ,\", Person is below healthy range\", end=\"\\n\")\n",
    "elif bmi > 25:\n",
    "    print(\"BMI: \",bmi ,\", Person is above healthy range\", end=\"\\n\")\n",
    "else:\n",
    "    print(\"BMI: \",bmi ,\", Person is within healthy range\", end=\"\\n\")"
   ]
  },
  {
   "cell_type": "code",
   "execution_count": 26,
   "id": "ef4beacc",
   "metadata": {},
   "outputs": [
    {
     "name": "stdout",
     "output_type": "stream",
     "text": [
      "Enter 3 digit number: 484\n",
      "Middle digit is equal to sum of first and last digit\n"
     ]
    }
   ],
   "source": [
    "'''\n",
    "13. Write a program which prompts the user for a 3 digit integer and checks whether the middle digit is equal to the sum of the other two digits. The program should print an appropriate response. Hint: use the // and % operations.\n",
    "Middle digit is equal to sum of first and last digit\n",
    "363\n",
    "484\n",
    "121\n",
    "\n",
    "Middle digit is not equal to sum of first and last digit\n",
    "243\n",
    "\n",
    "Hint:\n",
    "\n",
    "% gives units placed number\n",
    "// gives non units placed number\n",
    ">>> 363%10\n",
    "3\n",
    ">>> 363//10\n",
    "36\n",
    ">>> 36%10\n",
    "6\n",
    ">>> 36//10\n",
    "3\n",
    ">>> 3%10\n",
    "3\n",
    ">>> 3//10\n",
    "0\n",
    "'''\n",
    "\n",
    "\n",
    "num = int(input(\"Enter 3 digit number: \"))\n",
    "if len(str(num)) > 3:\n",
    "    print(\"Invalid entry, Please enter 3 digit number only\")\n",
    "else:\n",
    "    sums = 0\n",
    "    middle = 0\n",
    "    temp = num\n",
    "    i = 1\n",
    "    while temp > 0:\n",
    "        temp = temp % 10\n",
    "        if i == 2:\n",
    "            middle = temp\n",
    "        else:\n",
    "            sums = sums + temp\n",
    "        num = num // 10\n",
    "        temp = num\n",
    "        i = i + 1\n",
    "    if middle == sums:\n",
    "      print('Middle digit is equal to sum of first and last digit')\n",
    "    else:\n",
    "      print(\"Middle digit is not equal to sum of first and last digit\")"
   ]
  },
  {
   "cell_type": "code",
   "execution_count": 32,
   "id": "094b947d",
   "metadata": {},
   "outputs": [
    {
     "name": "stdout",
     "output_type": "stream",
     "text": [
      "Enter distance in Meter: 1\n",
      "1  meterToFoot  3.280839895013123\n",
      "1  meterToYard  1.0912\n",
      "1  meterToMile  0.00062\n",
      "1  meterToMeter  1\n",
      "1  meterToKilometer  0.001\n",
      "1  meterToInches  39.37007874015748\n"
     ]
    }
   ],
   "source": [
    "'''\n",
    "14. Accept the distance in Meter from User and Convert into, foot, yard, mile, meter, kilometer and inches\n",
    "Distance \n",
    "1 foot = 12 inches \n",
    "1 yard = 3 feet \n",
    "1 mile = 5,280 feet \n",
    "1 mile ≈ 1.61 kilometers \n",
    "1 inch = 2.54 centimeters \n",
    "1 foot = 0.3048 meters \n",
    "1 meter = 1,000 millimeters \n",
    "1 meter = 100 centimeters \n",
    "1 kilometer = 1,000 meters \n",
    "1 kilometer = 0.62 miles\n",
    "'''\n",
    "foot = 12 # inches\n",
    "yard = 3 # feet\n",
    "mileInFeet = 5280 # feet\n",
    "mileInKilometers = 1.6 # kilometers\n",
    "inch = 2.54 # centimeters \n",
    "foot = 0.3048 # meters\n",
    "meterInMillimeters = 1000 # millimeters\n",
    "meterInCentimeters = 100 # centimeters\n",
    "kilometerInMeters = 1000 # meters\n",
    "kilometerInMiles = 0.62 # miles\n",
    "\n",
    "num = int(input(\"Enter distance in Meter: \"))\n",
    "\n",
    "# Formula\n",
    "meterToFoot = num / foot # Formula must be corrected\n",
    "# meter to kilometer, kilometer to miles, miles to feet, feet to yard\n",
    "meterToYard = ((num / kilometerInMeters) * kilometerInMiles * mileInFeet) / yard\n",
    "meterToMile = (num / kilometerInMeters) * kilometerInMiles  # Formula divide the length value by 1000\n",
    "meterToMeter = num\n",
    "meterToKilometer = num / kilometerInMeters # Formula divide the length value by 1000\n",
    "meterToInches = num * (meterInCentimeters / inch)\n",
    "\n",
    "print(num, \" meterToFoot \", meterToFoot)\n",
    "print(num, \" meterToYard \", meterToYard)\n",
    "print(num, \" meterToMile \", meterToMile)\n",
    "print(num, \" meterToMeter \", meterToMeter)\n",
    "print(num, \" meterToKilometer \", meterToKilometer)\n",
    "print(num, \" meterToInches \", meterToInches)"
   ]
  },
  {
   "cell_type": "code",
   "execution_count": null,
   "id": "508100ad",
   "metadata": {},
   "outputs": [],
   "source": []
  }
 ],
 "metadata": {
  "kernelspec": {
   "display_name": "Python 3 (ipykernel)",
   "language": "python",
   "name": "python3"
  },
  "language_info": {
   "codemirror_mode": {
    "name": "ipython",
    "version": 3
   },
   "file_extension": ".py",
   "mimetype": "text/x-python",
   "name": "python",
   "nbconvert_exporter": "python",
   "pygments_lexer": "ipython3",
   "version": "3.10.2"
  }
 },
 "nbformat": 4,
 "nbformat_minor": 5
}
