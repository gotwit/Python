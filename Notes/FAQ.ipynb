{
 "cells": [
  {
   "cell_type": "code",
   "execution_count": 4,
   "id": "0e4584da-932f-40cb-b630-e605660d7716",
   "metadata": {},
   "outputs": [],
   "source": [
    "class C:\n",
    "    def meth(self, arg):\n",
    "        return arg * 2 # + self.attribute"
   ]
  },
  {
   "cell_type": "code",
   "execution_count": 6,
   "id": "8c50cd5d-745a-42d3-b0e8-7642033a5d83",
   "metadata": {},
   "outputs": [
    {
     "ename": "TypeError",
     "evalue": "C.meth() missing 1 required positional argument: 'arg'",
     "output_type": "error",
     "traceback": [
      "\u001b[1;31m----------------------------------------------------------------------\u001b[0m",
      "\u001b[1;31mTypeError\u001b[0m                            Traceback (most recent call last)",
      "Cell \u001b[1;32mIn[6], line 1\u001b[0m\n\u001b[1;32m----> 1\u001b[0m \u001b[43mC\u001b[49m\u001b[38;5;241;43m.\u001b[39;49m\u001b[43mmeth\u001b[49m\u001b[43m(\u001b[49m\u001b[38;5;241;43m2\u001b[39;49m\u001b[43m)\u001b[49m\n",
      "\u001b[1;31mTypeError\u001b[0m: C.meth() missing 1 required positional argument: 'arg'"
     ]
    }
   ],
   "source": [
    "C.meth(2)"
   ]
  },
  {
   "cell_type": "code",
   "execution_count": 5,
   "id": "02d71afc-1026-4a12-bc5b-28252a5ceed5",
   "metadata": {},
   "outputs": [
    {
     "data": {
      "text/plain": [
       "4"
      ]
     },
     "execution_count": 5,
     "metadata": {},
     "output_type": "execute_result"
    }
   ],
   "source": [
    "obj = C()\n",
    "obj.meth(2)"
   ]
  },
  {
   "cell_type": "code",
   "execution_count": 8,
   "id": "ad4d7a9d-c4d2-4c8e-a624-369ce48e768a",
   "metadata": {},
   "outputs": [
    {
     "name": "stdout",
     "output_type": "stream",
     "text": [
      "1\n",
      "2\n",
      "3\n",
      "4\n",
      "5\n",
      "6\n",
      "7\n",
      "8\n",
      "9\n"
     ]
    }
   ],
   "source": [
    "# walrus operator `:=`\n",
    "i = 1\n",
    "while ch := i < 10:\n",
    "    print(i)\n",
    "    i+=1"
   ]
  },
  {
   "cell_type": "code",
   "execution_count": 9,
   "id": "11835364-beae-4336-b15f-c9e21c1bfb4f",
   "metadata": {},
   "outputs": [
    {
     "ename": "SyntaxError",
     "evalue": "incomplete input (2170378671.py, line 1)",
     "output_type": "error",
     "traceback": [
      "\u001b[1;36m  Cell \u001b[1;32mIn[9], line 1\u001b[1;36m\u001b[0m\n\u001b[1;33m    \",\".join(['1', '2', '3', '4', '5', '6']\u001b[0m\n\u001b[1;37m                                           ^\u001b[0m\n\u001b[1;31mSyntaxError\u001b[0m\u001b[1;31m:\u001b[0m incomplete input\n"
     ]
    }
   ],
   "source": [
    "\",\".join(['1', '2', '3', '4', '5', '6']"
   ]
  },
  {
   "cell_type": "code",
   "execution_count": 10,
   "id": "7fe8c1bb-1b10-42b6-a592-8f8cab46a9b0",
   "metadata": {},
   "outputs": [
    {
     "data": {
      "text/plain": [
       "'1,2,3,4,5,6'"
      ]
     },
     "execution_count": 10,
     "metadata": {},
     "output_type": "execute_result"
    }
   ],
   "source": [
    "\",\".join(['1', '2', '3', '4', '5', '6'])"
   ]
  },
  {
   "cell_type": "code",
   "execution_count": 11,
   "id": "ae911dfc-e7ae-4b9d-bfbe-7518be027856",
   "metadata": {},
   "outputs": [
    {
     "data": {
      "text/plain": [
       "['1', '2', '3', '4', '5', '6']"
      ]
     },
     "execution_count": 11,
     "metadata": {},
     "output_type": "execute_result"
    }
   ],
   "source": [
    "\n",
    "'1,2,3,4,5,6'.split(\",\")"
   ]
  },
  {
   "cell_type": "code",
   "execution_count": 12,
   "id": "2eaaa0b6-fc96-4410-bc0b-20df8bfb8f75",
   "metadata": {},
   "outputs": [
    {
     "data": {
      "text/plain": [
       "['1,2,3,4,5,6']"
      ]
     },
     "execution_count": 12,
     "metadata": {},
     "output_type": "execute_result"
    }
   ],
   "source": [
    "'1,2,3,4,5,6'.split()"
   ]
  },
  {
   "cell_type": "code",
   "execution_count": 13,
   "id": "dc3ba3b8-0dc5-433b-9bab-b4e0551fa879",
   "metadata": {},
   "outputs": [
    {
     "ename": "TypeError",
     "evalue": "sequence item 0: expected str instance, int found",
     "output_type": "error",
     "traceback": [
      "\u001b[1;31m----------------------------------------------------------------------\u001b[0m",
      "\u001b[1;31mTypeError\u001b[0m                            Traceback (most recent call last)",
      "Cell \u001b[1;32mIn[13], line 1\u001b[0m\n\u001b[1;32m----> 1\u001b[0m \u001b[38;5;124;43m\"\u001b[39;49m\u001b[38;5;124;43m,\u001b[39;49m\u001b[38;5;124;43m\"\u001b[39;49m\u001b[38;5;241;43m.\u001b[39;49m\u001b[43mjoin\u001b[49m\u001b[43m(\u001b[49m\u001b[43m[\u001b[49m\u001b[38;5;241;43m1\u001b[39;49m\u001b[43m,\u001b[49m\u001b[43m \u001b[49m\u001b[38;5;241;43m2\u001b[39;49m\u001b[43m,\u001b[49m\u001b[43m \u001b[49m\u001b[38;5;241;43m3\u001b[39;49m\u001b[43m,\u001b[49m\u001b[43m \u001b[49m\u001b[38;5;241;43m4\u001b[39;49m\u001b[43m,\u001b[49m\u001b[43m \u001b[49m\u001b[38;5;241;43m5\u001b[39;49m\u001b[43m,\u001b[49m\u001b[43m \u001b[49m\u001b[38;5;241;43m6\u001b[39;49m\u001b[43m]\u001b[49m\u001b[43m)\u001b[49m\n",
      "\u001b[1;31mTypeError\u001b[0m: sequence item 0: expected str instance, int found"
     ]
    }
   ],
   "source": [
    "\",\".join([1, 2, 3, 4, 5, 6])"
   ]
  },
  {
   "cell_type": "code",
   "execution_count": 14,
   "id": "88dd867a-c203-416a-8013-9936e03c4925",
   "metadata": {},
   "outputs": [
    {
     "ename": "NameError",
     "evalue": "name 'mydict' is not defined",
     "output_type": "error",
     "traceback": [
      "\u001b[1;31m----------------------------------------------------------------------\u001b[0m",
      "\u001b[1;31mNameError\u001b[0m                            Traceback (most recent call last)",
      "Cell \u001b[1;32mIn[14], line 2\u001b[0m\n\u001b[0;32m      1\u001b[0m \u001b[38;5;28;01mtry\u001b[39;00m:\n\u001b[1;32m----> 2\u001b[0m     value \u001b[38;5;241m=\u001b[39m \u001b[43mmydict\u001b[49m[key]\n\u001b[0;32m      3\u001b[0m \u001b[38;5;28;01mexcept\u001b[39;00m \u001b[38;5;167;01mKeyError\u001b[39;00m:\n\u001b[0;32m      4\u001b[0m     mydict[key] \u001b[38;5;241m=\u001b[39m getvalue(key)\n",
      "\u001b[1;31mNameError\u001b[0m: name 'mydict' is not defined"
     ]
    }
   ],
   "source": [
    "try:\n",
    "    value = mydict[key]\n",
    "except KeyError:\n",
    "    mydict[key] = getvalue(key)\n",
    "    value = mydict[key]"
   ]
  },
  {
   "cell_type": "code",
   "execution_count": 15,
   "id": "9f227e02-ba5f-432d-aed7-ef273568fbcf",
   "metadata": {},
   "outputs": [],
   "source": [
    "# value = dict.setdefault(key, getvalue(key))"
   ]
  },
  {
   "cell_type": "code",
   "execution_count": 16,
   "id": "be237aa7-55c1-49c8-9439-5de3f47e542c",
   "metadata": {},
   "outputs": [
    {
     "data": {
      "text/plain": [
       "10"
      ]
     },
     "execution_count": 16,
     "metadata": {},
     "output_type": "execute_result"
    }
   ],
   "source": [
    "c = C()\n",
    "c.meth(5)"
   ]
  },
  {
   "cell_type": "code",
   "execution_count": 17,
   "id": "fea70eb6-85ed-4409-a525-2bde2c2f68fb",
   "metadata": {},
   "outputs": [
    {
     "data": {
      "text/plain": [
       "True"
      ]
     },
     "execution_count": 17,
     "metadata": {},
     "output_type": "execute_result"
    }
   ],
   "source": [
    "isinstance(c, C)"
   ]
  },
  {
   "cell_type": "code",
   "execution_count": 18,
   "id": "56d0039d-5d3d-44b0-bd14-ac1e42683981",
   "metadata": {},
   "outputs": [
    {
     "data": {
      "text/plain": [
       "True"
      ]
     },
     "execution_count": 18,
     "metadata": {},
     "output_type": "execute_result"
    }
   ],
   "source": [
    "isinstance(obj, C)"
   ]
  },
  {
   "cell_type": "code",
   "execution_count": 19,
   "id": "e292a703-465c-4718-92b0-39cc08adecee",
   "metadata": {},
   "outputs": [
    {
     "ename": "NameError",
     "evalue": "name 'b' is not defined",
     "output_type": "error",
     "traceback": [
      "\u001b[1;31m----------------------------------------------------------------------\u001b[0m",
      "\u001b[1;31mNameError\u001b[0m                            Traceback (most recent call last)",
      "Cell \u001b[1;32mIn[19], line 1\u001b[0m\n\u001b[1;32m----> 1\u001b[0m \u001b[38;5;28misinstance\u001b[39m(\u001b[43mb\u001b[49m, C)\n",
      "\u001b[1;31mNameError\u001b[0m: name 'b' is not defined"
     ]
    }
   ],
   "source": [
    "isinstance(b, C)"
   ]
  },
  {
   "cell_type": "code",
   "execution_count": 20,
   "id": "47598771-d433-48c3-b155-9cc50839a0e8",
   "metadata": {},
   "outputs": [
    {
     "data": {
      "text/plain": [
       "False"
      ]
     },
     "execution_count": 20,
     "metadata": {},
     "output_type": "execute_result"
    }
   ],
   "source": [
    "isinstance(c, str)"
   ]
  },
  {
   "cell_type": "code",
   "execution_count": 21,
   "id": "e8ae3eb5-1909-4e1a-8260-875f44688823",
   "metadata": {},
   "outputs": [
    {
     "data": {
      "text/plain": [
       "True"
      ]
     },
     "execution_count": 21,
     "metadata": {},
     "output_type": "execute_result"
    }
   ],
   "source": [
    "isinstance(c, object)"
   ]
  },
  {
   "cell_type": "code",
   "execution_count": 22,
   "id": "35ce3aaf-2638-470e-b4be-23473edfef7f",
   "metadata": {},
   "outputs": [
    {
     "ename": "SyntaxError",
     "evalue": "invalid syntax (3939180241.py, line 1)",
     "output_type": "error",
     "traceback": [
      "\u001b[1;36m  Cell \u001b[1;32mIn[22], line 1\u001b[1;36m\u001b[0m\n\u001b[1;33m    isinstance(c, class)\u001b[0m\n\u001b[1;37m                  ^\u001b[0m\n\u001b[1;31mSyntaxError\u001b[0m\u001b[1;31m:\u001b[0m invalid syntax\n"
     ]
    }
   ],
   "source": [
    "isinstance(c, class)"
   ]
  },
  {
   "cell_type": "code",
   "execution_count": 24,
   "id": "4d9db94c-8097-412c-af3d-037991541033",
   "metadata": {},
   "outputs": [
    {
     "data": {
      "text/plain": [
       "__main__.P"
      ]
     },
     "execution_count": 24,
     "metadata": {},
     "output_type": "execute_result"
    }
   ],
   "source": [
    "from collections.abc import Mapping\n",
    "\n",
    "class P:\n",
    "    pass\n",
    "\n",
    "class C(P):\n",
    "    pass\n",
    "\n",
    "Mapping.register(P)"
   ]
  },
  {
   "cell_type": "code",
   "execution_count": 25,
   "id": "c9d8f654-f9f4-4c9a-8e7d-86ee4fb8f1d9",
   "metadata": {},
   "outputs": [],
   "source": [
    "c = C()"
   ]
  },
  {
   "cell_type": "code",
   "execution_count": 27,
   "id": "268e12ed-345a-4b9f-9a84-6b137aa56dc2",
   "metadata": {},
   "outputs": [
    {
     "data": {
      "text/plain": [
       "True"
      ]
     },
     "execution_count": 27,
     "metadata": {},
     "output_type": "execute_result"
    }
   ],
   "source": [
    "isinstance(c, C) # direct"
   ]
  },
  {
   "cell_type": "code",
   "execution_count": 28,
   "id": "e7a0568b-5e41-4d1f-94f0-826d1e88a694",
   "metadata": {},
   "outputs": [
    {
     "data": {
      "text/plain": [
       "True"
      ]
     },
     "execution_count": 28,
     "metadata": {},
     "output_type": "execute_result"
    }
   ],
   "source": [
    "isinstance(c, P) # indirect"
   ]
  },
  {
   "cell_type": "code",
   "execution_count": 29,
   "id": "c176d478-7532-4428-adba-dda0346d0459",
   "metadata": {},
   "outputs": [
    {
     "data": {
      "text/plain": [
       "True"
      ]
     },
     "execution_count": 29,
     "metadata": {},
     "output_type": "execute_result"
    }
   ],
   "source": [
    "isinstance(c, Mapping) # virtual"
   ]
  },
  {
   "cell_type": "code",
   "execution_count": 30,
   "id": "73d7cd31-8dea-421a-8a01-194710e469d4",
   "metadata": {},
   "outputs": [
    {
     "data": {
      "text/plain": [
       "__main__.C"
      ]
     },
     "execution_count": 30,
     "metadata": {},
     "output_type": "execute_result"
    }
   ],
   "source": [
    "type(c)"
   ]
  },
  {
   "cell_type": "code",
   "execution_count": 31,
   "id": "fc266884-3417-4cbd-9f9e-182ae7bfd9fd",
   "metadata": {},
   "outputs": [
    {
     "data": {
      "text/plain": [
       "(__main__.C, __main__.P, object)"
      ]
     },
     "execution_count": 31,
     "metadata": {},
     "output_type": "execute_result"
    }
   ],
   "source": [
    "type(c).__mro__"
   ]
  },
  {
   "cell_type": "code",
   "execution_count": 32,
   "id": "0ff127e8-f524-485a-b956-3541aebc34b1",
   "metadata": {},
   "outputs": [
    {
     "data": {
      "text/plain": [
       "False"
      ]
     },
     "execution_count": 32,
     "metadata": {},
     "output_type": "execute_result"
    }
   ],
   "source": [
    "Mapping in type(C).__mro__"
   ]
  },
  {
   "cell_type": "code",
   "execution_count": 33,
   "id": "9f59967f-7098-4ba8-bdbf-3fbb6058a1dd",
   "metadata": {},
   "outputs": [
    {
     "data": {
      "text/plain": [
       "2217538142992"
      ]
     },
     "execution_count": 33,
     "metadata": {},
     "output_type": "execute_result"
    }
   ],
   "source": [
    "id(C)"
   ]
  },
  {
   "cell_type": "code",
   "execution_count": 34,
   "id": "7c402a9f-f8c7-4d3d-ad55-3de69c3464f8",
   "metadata": {},
   "outputs": [
    {
     "data": {
      "text/plain": [
       "2217538114688"
      ]
     },
     "execution_count": 34,
     "metadata": {},
     "output_type": "execute_result"
    }
   ],
   "source": [
    "id(P)"
   ]
  },
  {
   "cell_type": "code",
   "execution_count": 8,
   "id": "264fdbd3-202d-4d3e-81fc-b893144352e5",
   "metadata": {},
   "outputs": [],
   "source": [
    "from datetime import date\n",
    "\n",
    "class FirstOfMonthDate(date):\n",
    "    # Always choose the first day of the month\n",
    "    def __new__(cls, year, month, day):\n",
    "        return super().__new__(cls, year, month, 1)\n",
    "\n",
    "class NamedInt(int):\n",
    "    # Allow test names for some numbers\n",
    "    xlat = {'zero':0, 'one':1, 'ten':10}\n",
    "    def __new__(cls, value):\n",
    "        value = cls.xlat.get(value, value)\n",
    "        return super().__new__(cls, value)\n",
    "\n",
    "class TitleStr(str):\n",
    "    # Convert str to name suitable for a URL path\n",
    "    def __new__(cls, s):\n",
    "        s = s.lower().replace(' ', '-')\n",
    "        s = ''.join([c for c in s if c.isalnum() or c == '-']) # filter special character\n",
    "        return super().__new__(cls, s)"
   ]
  },
  {
   "cell_type": "code",
   "execution_count": 2,
   "id": "81b57325-00e7-411c-b036-75dde8dfbc28",
   "metadata": {},
   "outputs": [
    {
     "data": {
      "text/plain": [
       "FirstOfMonthDate(2012, 2, 1)"
      ]
     },
     "execution_count": 2,
     "metadata": {},
     "output_type": "execute_result"
    }
   ],
   "source": [
    "FirstOfMonthDate(2012, 2, 14)"
   ]
  },
  {
   "cell_type": "code",
   "execution_count": 5,
   "id": "376502a2-f625-4ad7-ad43-eb5528af329a",
   "metadata": {},
   "outputs": [
    {
     "data": {
      "text/plain": [
       "10"
      ]
     },
     "execution_count": 5,
     "metadata": {},
     "output_type": "execute_result"
    }
   ],
   "source": [
    "NamedInt('ten')"
   ]
  },
  {
   "cell_type": "code",
   "execution_count": 6,
   "id": "0c4318f2-2e32-4e26-8ac9-d538c2e6a1c1",
   "metadata": {},
   "outputs": [
    {
     "data": {
      "text/plain": [
       "20"
      ]
     },
     "execution_count": 6,
     "metadata": {},
     "output_type": "execute_result"
    }
   ],
   "source": [
    "NamedInt(20)"
   ]
  },
  {
   "cell_type": "code",
   "execution_count": 7,
   "id": "a37ad1df-7a05-4477-9dfa-4d14d8508b62",
   "metadata": {},
   "outputs": [
    {
     "data": {
      "text/plain": [
       "'blog-why-python-rocks'"
      ]
     },
     "execution_count": 7,
     "metadata": {},
     "output_type": "execute_result"
    }
   ],
   "source": [
    "TitleStr('Blog: Why Python Rocks')"
   ]
  },
  {
   "cell_type": "code",
   "execution_count": 9,
   "id": "37785c65-af1d-40d1-b7bf-33461606ff6d",
   "metadata": {},
   "outputs": [
    {
     "name": "stdout",
     "output_type": "stream",
     "text": [
      "10\n"
     ]
    }
   ],
   "source": [
    "x = 10\n",
    "def foobar():\n",
    "    global x\n",
    "    print(x)\n",
    "    x += 1\n",
    "foobar()"
   ]
  },
  {
   "cell_type": "code",
   "execution_count": 10,
   "id": "310fa529-aa49-4745-87d0-0a6c25c77d70",
   "metadata": {},
   "outputs": [
    {
     "name": "stdout",
     "output_type": "stream",
     "text": [
      "11\n"
     ]
    }
   ],
   "source": [
    "print(x)"
   ]
  },
  {
   "cell_type": "code",
   "execution_count": 13,
   "id": "4e959756-6a7d-4631-b3bb-f895e00aae60",
   "metadata": {},
   "outputs": [],
   "source": [
    "y = 10\n",
    "def foo():\n",
    "    print(y)\n",
    "    y += 1"
   ]
  },
  {
   "cell_type": "code",
   "execution_count": 14,
   "id": "60ab9cc2-c28c-464e-b96d-b8d10a2a872b",
   "metadata": {},
   "outputs": [
    {
     "ename": "UnboundLocalError",
     "evalue": "cannot access local variable 'y' where it is not associated with a value",
     "output_type": "error",
     "traceback": [
      "\u001b[1;31m----------------------------------------------------------------------\u001b[0m",
      "\u001b[1;31mUnboundLocalError\u001b[0m                    Traceback (most recent call last)",
      "Cell \u001b[1;32mIn[14], line 1\u001b[0m\n\u001b[1;32m----> 1\u001b[0m \u001b[43mfoo\u001b[49m\u001b[43m(\u001b[49m\u001b[43m)\u001b[49m\n",
      "Cell \u001b[1;32mIn[13], line 3\u001b[0m, in \u001b[0;36mfoo\u001b[1;34m()\u001b[0m\n\u001b[0;32m      2\u001b[0m \u001b[38;5;28;01mdef\u001b[39;00m \u001b[38;5;21mfoo\u001b[39m():\n\u001b[1;32m----> 3\u001b[0m     \u001b[38;5;28mprint\u001b[39m(\u001b[43my\u001b[49m)\n\u001b[0;32m      4\u001b[0m     y \u001b[38;5;241m+\u001b[39m\u001b[38;5;241m=\u001b[39m \u001b[38;5;241m1\u001b[39m\n",
      "\u001b[1;31mUnboundLocalError\u001b[0m: cannot access local variable 'y' where it is not associated with a value"
     ]
    }
   ],
   "source": [
    "foo()"
   ]
  },
  {
   "cell_type": "code",
   "execution_count": 15,
   "id": "b1f35daf-5bed-4b93-bd58-4f10096f24ee",
   "metadata": {},
   "outputs": [],
   "source": [
    "# nested scope use nonlocal keyword\n",
    "\n",
    "def foo():\n",
    "    x = 10\n",
    "    def bar():\n",
    "        print(x)\n",
    "        x += 1\n",
    "    bar()\n",
    "    print(x)"
   ]
  },
  {
   "cell_type": "code",
   "execution_count": 16,
   "id": "4f6de1a4-b9a2-498b-936b-5b44fefc271c",
   "metadata": {},
   "outputs": [
    {
     "ename": "UnboundLocalError",
     "evalue": "cannot access local variable 'x' where it is not associated with a value",
     "output_type": "error",
     "traceback": [
      "\u001b[1;31m----------------------------------------------------------------------\u001b[0m",
      "\u001b[1;31mUnboundLocalError\u001b[0m                    Traceback (most recent call last)",
      "Cell \u001b[1;32mIn[16], line 1\u001b[0m\n\u001b[1;32m----> 1\u001b[0m \u001b[43mfoo\u001b[49m\u001b[43m(\u001b[49m\u001b[43m)\u001b[49m\n",
      "Cell \u001b[1;32mIn[15], line 8\u001b[0m, in \u001b[0;36mfoo\u001b[1;34m()\u001b[0m\n\u001b[0;32m      6\u001b[0m     \u001b[38;5;28mprint\u001b[39m(x)\n\u001b[0;32m      7\u001b[0m     x \u001b[38;5;241m+\u001b[39m\u001b[38;5;241m=\u001b[39m \u001b[38;5;241m1\u001b[39m\n\u001b[1;32m----> 8\u001b[0m \u001b[43mbar\u001b[49m\u001b[43m(\u001b[49m\u001b[43m)\u001b[49m\n\u001b[0;32m      9\u001b[0m \u001b[38;5;28mprint\u001b[39m(x)\n",
      "Cell \u001b[1;32mIn[15], line 6\u001b[0m, in \u001b[0;36mfoo.<locals>.bar\u001b[1;34m()\u001b[0m\n\u001b[0;32m      5\u001b[0m \u001b[38;5;28;01mdef\u001b[39;00m \u001b[38;5;21mbar\u001b[39m():\n\u001b[1;32m----> 6\u001b[0m     \u001b[38;5;28mprint\u001b[39m(\u001b[43mx\u001b[49m)\n\u001b[0;32m      7\u001b[0m     x \u001b[38;5;241m+\u001b[39m\u001b[38;5;241m=\u001b[39m \u001b[38;5;241m1\u001b[39m\n",
      "\u001b[1;31mUnboundLocalError\u001b[0m: cannot access local variable 'x' where it is not associated with a value"
     ]
    }
   ],
   "source": [
    "foo()"
   ]
  },
  {
   "cell_type": "code",
   "execution_count": 17,
   "id": "7d77ef00-c278-4e4b-a3f3-f483e43e1d23",
   "metadata": {},
   "outputs": [],
   "source": [
    "# nested scope use nonlocal keyword\n",
    "\n",
    "def foo():\n",
    "    x = 10\n",
    "    def bar():\n",
    "        nonlocal x\n",
    "        print(x)\n",
    "        x += 1\n",
    "    bar()\n",
    "    print(x)"
   ]
  },
  {
   "cell_type": "code",
   "execution_count": 20,
   "id": "1a9d3f11-e710-4975-9494-103cb7980a88",
   "metadata": {},
   "outputs": [
    {
     "name": "stdout",
     "output_type": "stream",
     "text": [
      "10\n",
      "11\n"
     ]
    }
   ],
   "source": [
    "foo()"
   ]
  },
  {
   "cell_type": "code",
   "execution_count": null,
   "id": "45e0c3ae-4178-4201-a706-1e1f1e729d7a",
   "metadata": {},
   "outputs": [],
   "source": []
  },
  {
   "cell_type": "code",
   "execution_count": null,
   "id": "8b915d9f-d621-4f80-adf8-e2e21ecc50bb",
   "metadata": {},
   "outputs": [],
   "source": []
  },
  {
   "cell_type": "code",
   "execution_count": null,
   "id": "66e0d5e9-5dcd-4478-ad93-a2233fa242ef",
   "metadata": {},
   "outputs": [],
   "source": []
  }
 ],
 "metadata": {
  "kernelspec": {
   "display_name": "Python 3 (ipykernel)",
   "language": "python",
   "name": "python3"
  },
  "language_info": {
   "codemirror_mode": {
    "name": "ipython",
    "version": 3
   },
   "file_extension": ".py",
   "mimetype": "text/x-python",
   "name": "python",
   "nbconvert_exporter": "python",
   "pygments_lexer": "ipython3",
   "version": "3.11.9"
  }
 },
 "nbformat": 4,
 "nbformat_minor": 5
}
