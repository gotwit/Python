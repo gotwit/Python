{
 "cells": [
  {
   "cell_type": "code",
   "execution_count": 1,
   "id": "59bc27a0",
   "metadata": {},
   "outputs": [
    {
     "name": "stdout",
     "output_type": "stream",
     "text": [
      "21\n"
     ]
    }
   ],
   "source": [
    "# continuation character\n",
    "s = 1 + 2 + 3 + \\\n",
    "    4 + 5 + \\\n",
    "    6\n",
    "print(s)"
   ]
  },
  {
   "cell_type": "code",
   "execution_count": 2,
   "id": "2784c0a9",
   "metadata": {},
   "outputs": [
    {
     "name": "stdout",
     "output_type": "stream",
     "text": [
      "11\n"
     ]
    }
   ],
   "source": [
    "# using parantheses\n",
    "s = (1 + 2 * 3 + 4)\n",
    "print(s)"
   ]
  },
  {
   "cell_type": "code",
   "execution_count": 3,
   "id": "1386440e",
   "metadata": {},
   "outputs": [
    {
     "name": "stdout",
     "output_type": "stream",
     "text": [
      "['Maruti', 'Mahindra', 'Tesla']\n"
     ]
    }
   ],
   "source": [
    "cars = ['Maruti', 'Mahindra', 'Tesla']\n",
    "print(cars)"
   ]
  },
  {
   "cell_type": "code",
   "execution_count": 4,
   "id": "75351d3a",
   "metadata": {},
   "outputs": [
    {
     "name": "stdout",
     "output_type": "stream",
     "text": [
      "{6}\n"
     ]
    }
   ],
   "source": [
    "x = {1 + 2 + 3}\n",
    "print(x)"
   ]
  },
  {
   "cell_type": "code",
   "execution_count": 5,
   "id": "778c3454",
   "metadata": {},
   "outputs": [],
   "source": [
    "x = 1; y = 2; z = 3;"
   ]
  },
  {
   "cell_type": "code",
   "execution_count": 7,
   "id": "71644589",
   "metadata": {},
   "outputs": [
    {
     "name": "stdout",
     "output_type": "stream",
     "text": [
      "sri kanth\n",
      "not indented\n"
     ]
    }
   ],
   "source": [
    "name = 'sri'\n",
    "if name == 'sri':\n",
    "    print(name,'kanth')\n",
    "else:\n",
    "    print(name, 'doesn''t match')\n",
    "print('not indented')"
   ]
  },
  {
   "cell_type": "code",
   "execution_count": null,
   "id": "76e2fcc1",
   "metadata": {},
   "outputs": [],
   "source": []
  }
 ],
 "metadata": {
  "kernelspec": {
   "display_name": "Python 3",
   "language": "python",
   "name": "python3"
  },
  "language_info": {
   "codemirror_mode": {
    "name": "ipython",
    "version": 3
   },
   "file_extension": ".py",
   "mimetype": "text/x-python",
   "name": "python",
   "nbconvert_exporter": "python",
   "pygments_lexer": "ipython3",
   "version": "3.9.5"
  }
 },
 "nbformat": 4,
 "nbformat_minor": 5
}
