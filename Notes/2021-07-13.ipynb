{
 "cells": [
  {
   "cell_type": "code",
   "execution_count": 1,
   "id": "776cb7d4",
   "metadata": {},
   "outputs": [
    {
     "data": {
      "text/plain": [
       "0"
      ]
     },
     "execution_count": 1,
     "metadata": {},
     "output_type": "execute_result"
    }
   ],
   "source": [
    "# bitwise AND x & y\n",
    "a = 10\n",
    "b = 4\n",
    "a & b\n",
    "# 1010 & 0100"
   ]
  },
  {
   "cell_type": "code",
   "execution_count": 6,
   "id": "22ef7b6a",
   "metadata": {},
   "outputs": [
    {
     "data": {
      "text/plain": [
       "14"
      ]
     },
     "execution_count": 6,
     "metadata": {},
     "output_type": "execute_result"
    }
   ],
   "source": [
    "# bitwise OR x | y\n",
    "a = 10\n",
    "b = 4\n",
    "a | b\n",
    "# 1010 | 0100"
   ]
  },
  {
   "cell_type": "code",
   "execution_count": 8,
   "id": "d1289e3d",
   "metadata": {},
   "outputs": [
    {
     "data": {
      "text/plain": [
       "-11"
      ]
     },
     "execution_count": 8,
     "metadata": {},
     "output_type": "execute_result"
    }
   ],
   "source": [
    "# bitwise NOT ~\n",
    "a = 10\n",
    "~a\n",
    "# ~1010\n",
    "# -(1010 + 1)\n",
    "# -(1011)\n",
    "# -11"
   ]
  },
  {
   "cell_type": "code",
   "execution_count": 9,
   "id": "cdef694e",
   "metadata": {},
   "outputs": [
    {
     "data": {
      "text/plain": [
       "14"
      ]
     },
     "execution_count": 9,
     "metadata": {},
     "output_type": "execute_result"
    }
   ],
   "source": [
    "# bitwise XOR ^\n",
    "a = 10\n",
    "b = 4\n",
    "a ^ b\n",
    "# 1010 ^ 0100\n",
    "# 1110"
   ]
  },
  {
   "cell_type": "code",
   "execution_count": 10,
   "id": "638dabd1",
   "metadata": {},
   "outputs": [
    {
     "ename": "ValueError",
     "evalue": "negative shift count",
     "output_type": "error",
     "traceback": [
      "\u001b[1;31m---------------------------------------------------------------------------\u001b[0m",
      "\u001b[1;31mValueError\u001b[0m                                Traceback (most recent call last)",
      "\u001b[1;32m<ipython-input-10-e4aaaa31dee9>\u001b[0m in \u001b[0;36m<module>\u001b[1;34m\u001b[0m\n\u001b[0;32m      1\u001b[0m \u001b[1;31m# left shift or right shift is undefined for -ve operands\u001b[0m\u001b[1;33m\u001b[0m\u001b[1;33m\u001b[0m\u001b[1;33m\u001b[0m\u001b[0m\n\u001b[0;32m      2\u001b[0m \u001b[1;33m-\u001b[0m\u001b[1;36m1\u001b[0m \u001b[1;33m<<\u001b[0m \u001b[1;36m1\u001b[0m\u001b[1;33m\u001b[0m\u001b[1;33m\u001b[0m\u001b[0m\n\u001b[1;32m----> 3\u001b[1;33m \u001b[1;36m1\u001b[0m \u001b[1;33m<<\u001b[0m \u001b[1;33m-\u001b[0m\u001b[1;36m1\u001b[0m\u001b[1;33m\u001b[0m\u001b[1;33m\u001b[0m\u001b[0m\n\u001b[0m",
      "\u001b[1;31mValueError\u001b[0m: negative shift count"
     ]
    }
   ],
   "source": [
    "# left shift or right shift is undefined for -ve operands\n",
    "-1 << 1\n",
    "1 << -1"
   ]
  },
  {
   "cell_type": "code",
   "execution_count": 11,
   "id": "8b18a71f",
   "metadata": {},
   "outputs": [
    {
     "data": {
      "text/plain": [
       "8589934592"
      ]
     },
     "execution_count": 11,
     "metadata": {},
     "output_type": "execute_result"
    }
   ],
   "source": [
    "1 << 33"
   ]
  },
  {
   "cell_type": "code",
   "execution_count": null,
   "id": "057419e4",
   "metadata": {},
   "outputs": [],
   "source": []
  }
 ],
 "metadata": {
  "kernelspec": {
   "display_name": "Python 3",
   "language": "python",
   "name": "python3"
  },
  "language_info": {
   "codemirror_mode": {
    "name": "ipython",
    "version": 3
   },
   "file_extension": ".py",
   "mimetype": "text/x-python",
   "name": "python",
   "nbconvert_exporter": "python",
   "pygments_lexer": "ipython3",
   "version": "3.9.6"
  }
 },
 "nbformat": 4,
 "nbformat_minor": 5
}
