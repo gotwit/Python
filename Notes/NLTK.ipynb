{
 "cells": [
  {
   "cell_type": "code",
   "execution_count": 10,
   "id": "06a7f7b0",
   "metadata": {},
   "outputs": [
    {
     "data": {
      "text/plain": [
       "bool"
      ]
     },
     "execution_count": 10,
     "metadata": {},
     "output_type": "execute_result"
    }
   ],
   "source": [
    "type(False)"
   ]
  },
  {
   "cell_type": "code",
   "execution_count": 11,
   "id": "193702c4",
   "metadata": {},
   "outputs": [
    {
     "data": {
      "text/plain": [
       "str"
      ]
     },
     "execution_count": 11,
     "metadata": {},
     "output_type": "execute_result"
    }
   ],
   "source": [
    "type_text = \"sometext\"\n",
    "type(type_text)"
   ]
  },
  {
   "cell_type": "code",
   "execution_count": 15,
   "id": "44450a67",
   "metadata": {},
   "outputs": [
    {
     "name": "stdout",
     "output_type": "stream",
     "text": [
      "['I', ' ', 'a', 'm', ' ', 'a', ' ', 'p', 'r', 'o', 'g', 'r', 'a', 'm', 'm', 'e', 'r', ' ', 'j', 'd', 's', 'a', 'f', 'j', ' ', 'j', 'q', '3', 'o', 'w', ' ', 't', '3', '5', '6', '3', ' ', 'I', ' ', 'l', 's', 'g', 'f', 'l', 's', 'k', 'g', 'f', 'a', 'm']\n"
     ]
    }
   ],
   "source": [
    "\n",
    "words = 'I am a programmer jdsafj jq3ow t3563 I lsgflskgfam'\n",
    "listWW = []\n",
    "\n",
    "for word in words:\n",
    "    listWW.append(word)\n",
    "print(listWW)"
   ]
  },
  {
   "cell_type": "code",
   "execution_count": null,
   "id": "9a6eaa4e",
   "metadata": {},
   "outputs": [],
   "source": []
  }
 ],
 "metadata": {
  "kernelspec": {
   "display_name": "Python 3 (ipykernel)",
   "language": "python",
   "name": "python3"
  },
  "language_info": {
   "codemirror_mode": {
    "name": "ipython",
    "version": 3
   },
   "file_extension": ".py",
   "mimetype": "text/x-python",
   "name": "python",
   "nbconvert_exporter": "python",
   "pygments_lexer": "ipython3",
   "version": "3.10.2"
  }
 },
 "nbformat": 4,
 "nbformat_minor": 5
}
