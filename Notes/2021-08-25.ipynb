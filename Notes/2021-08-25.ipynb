{
 "cells": [
  {
   "cell_type": "code",
   "execution_count": 3,
   "id": "781b4f77",
   "metadata": {},
   "outputs": [
    {
     "name": "stdout",
     "output_type": "stream",
     "text": [
      "AUM\n"
     ]
    }
   ],
   "source": [
    "print('AUM')"
   ]
  },
  {
   "cell_type": "code",
   "execution_count": 7,
   "id": "26b97212",
   "metadata": {},
   "outputs": [
    {
     "name": "stdout",
     "output_type": "stream",
     "text": [
      "True\n",
      "False\n"
     ]
    }
   ],
   "source": [
    "# Identity operator\n",
    "var1='Om Gan Ganpathaye Namaha'\n",
    "var2='Om Namah Shivaya'\n",
    "print(var1 is not var2)\n",
    "print(var1 is var2)"
   ]
  },
  {
   "cell_type": "code",
   "execution_count": 10,
   "id": "a5dd92f8",
   "metadata": {},
   "outputs": [
    {
     "name": "stdout",
     "output_type": "stream",
     "text": [
      "False\n",
      "False\n"
     ]
    }
   ],
   "source": [
    "# Membership operator\n",
    "var1='Om Gan Ganapathaye Namaha'\n",
    "var2='Om Namah Shivaya'\n",
    "print(\"k\" in var1)\n",
    "print(\"S\" not in var2)"
   ]
  },
  {
   "cell_type": "code",
   "execution_count": 16,
   "id": "41087847",
   "metadata": {},
   "outputs": [
    {
     "name": "stdout",
     "output_type": "stream",
     "text": [
      "Enter your value: ['a','b','c']\n",
      "['a','b','c']\n"
     ]
    }
   ],
   "source": [
    "val=input(\"Enter your value: \")\n",
    "print(val)"
   ]
  },
  {
   "cell_type": "code",
   "execution_count": 17,
   "id": "512ddc22",
   "metadata": {},
   "outputs": [
    {
     "name": "stdout",
     "output_type": "stream",
     "text": [
      "Enter your value: 10\n",
      "10\n"
     ]
    }
   ],
   "source": [
    "val=input(\"Enter your value: \")\n",
    "print(val)"
   ]
  },
  {
   "cell_type": "code",
   "execution_count": 18,
   "id": "cfbc0d4c",
   "metadata": {},
   "outputs": [
    {
     "name": "stdout",
     "output_type": "stream",
     "text": [
      "Enter your value: c\n",
      "c\n"
     ]
    }
   ],
   "source": [
    "val=input(\"Enter your value: \")\n",
    "print(val)"
   ]
  },
  {
   "cell_type": "code",
   "execution_count": 19,
   "id": "826094f1",
   "metadata": {},
   "outputs": [
    {
     "name": "stdout",
     "output_type": "stream",
     "text": [
      "Enter your value: \"sri\"\n",
      "\"sri\"\n"
     ]
    }
   ],
   "source": [
    "val=input(\"Enter your value: \")\n",
    "print(val)"
   ]
  },
  {
   "cell_type": "code",
   "execution_count": 20,
   "id": "65dc5933",
   "metadata": {},
   "outputs": [
    {
     "name": "stdout",
     "output_type": "stream",
     "text": [
      "Enter your value: 1.1\n",
      "1.1\n"
     ]
    }
   ],
   "source": [
    "val=input(\"Enter your value: \")\n",
    "print(val)"
   ]
  },
  {
   "cell_type": "code",
   "execution_count": 21,
   "id": "d00026f6",
   "metadata": {},
   "outputs": [
    {
     "name": "stdout",
     "output_type": "stream",
     "text": [
      "Enter your value: [var1:10, var2:20, var3:30]\n",
      "[var1:10, var2:20, var3:30]\n"
     ]
    }
   ],
   "source": [
    "val=input(\"Enter your value: \")\n",
    "print(val)"
   ]
  },
  {
   "cell_type": "code",
   "execution_count": 24,
   "id": "c3eca049",
   "metadata": {},
   "outputs": [
    {
     "name": "stdout",
     "output_type": "stream",
     "text": [
      "\n"
     ]
    }
   ],
   "source": [
    "# Zero or more expression separated by commas.\n",
    "# Converts expressions into a string.\n",
    "print()"
   ]
  },
  {
   "cell_type": "code",
   "execution_count": 25,
   "id": "c95de7d4",
   "metadata": {},
   "outputs": [
    {
     "name": "stdout",
     "output_type": "stream",
     "text": [
      "Aum Namah Shivaya\n"
     ]
    }
   ],
   "source": [
    "print('Aum Namah Shivaya')"
   ]
  },
  {
   "cell_type": "code",
   "execution_count": 31,
   "id": "df85072b",
   "metadata": {},
   "outputs": [
    {
     "name": "stdout",
     "output_type": "stream",
     "text": [
      "x= 1\n"
     ]
    }
   ],
   "source": [
    "print(\"x=\", 1)"
   ]
  },
  {
   "cell_type": "code",
   "execution_count": 34,
   "id": "9607d108",
   "metadata": {},
   "outputs": [
    {
     "name": "stdout",
     "output_type": "stream",
     "text": [
      "AUM\n"
     ]
    }
   ],
   "source": [
    "print('A', 'U', 'M', sep='')"
   ]
  },
  {
   "cell_type": "code",
   "execution_count": 35,
   "id": "7a7a32d7",
   "metadata": {},
   "outputs": [
    {
     "name": "stdout",
     "output_type": "stream",
     "text": [
      "AUM@"
     ]
    }
   ],
   "source": [
    "print('AUM',end='@')"
   ]
  },
  {
   "cell_type": "code",
   "execution_count": 38,
   "id": "70fea37f",
   "metadata": {},
   "outputs": [
    {
     "name": "stdout",
     "output_type": "stream",
     "text": [
      "Type of a:  <class 'int'>\n",
      "Type of b:  <class 'float'>\n",
      "Type of c:  <class 'complex'>\n"
     ]
    }
   ],
   "source": [
    "# Data type\n",
    "# Numeric\n",
    "# -Integer, Float, Complex Number\n",
    "# Dictionary\n",
    "# Boolean\n",
    "# Set\n",
    "# Sequence Type\n",
    "# - Strings, List, Tuple\n",
    "\n",
    "a=5\n",
    "b=2.2\n",
    "c=2+4j\n",
    "print('Type of a: ', type(a))\n",
    "print('Type of b: ', type(b))\n",
    "print('Type of c: ', type(c))"
   ]
  },
  {
   "cell_type": "code",
   "execution_count": 39,
   "id": "1692bbba",
   "metadata": {},
   "outputs": [
    {
     "name": "stdout",
     "output_type": "stream",
     "text": [
      "AUM\n",
      "AUM\n",
      "AUM\n"
     ]
    }
   ],
   "source": [
    "# Sequence Type\n",
    "# - String, Tuple, List\n",
    "# String collection of one or more characters\n",
    "singleQuote='AUM'\n",
    "doubleQuote=\"AUM\"\n",
    "tripleQuote='''AUM'''\n",
    "print(singleQuote)\n",
    "print(doubleQuote)\n",
    "print(tripleQuote)"
   ]
  },
  {
   "cell_type": "code",
   "execution_count": 42,
   "id": "6f30130a",
   "metadata": {
    "scrolled": true
   },
   "outputs": [
    {
     "name": "stdout",
     "output_type": "stream",
     "text": [
      "c\n",
      "Type of char:  <class 'str'>\n"
     ]
    }
   ],
   "source": [
    "# character is a string of length 1 in python\n",
    "# since there is no character data type in python\n",
    "char='c'\n",
    "print(char)\n",
    "print('Type of char: ', type(char))"
   ]
  },
  {
   "cell_type": "code",
   "execution_count": 45,
   "id": "cca45f6a",
   "metadata": {
    "scrolled": false
   },
   "outputs": [
    {
     "name": "stdout",
     "output_type": "stream",
     "text": [
      "len:  17\n",
      "U\n",
      "A\n",
      "Y\n",
      "A\n"
     ]
    }
   ],
   "source": [
    "string='AUM NAMAH SHIVAYA'\n",
    "print('len: ', len(string))\n",
    "print(string[1])\n",
    "print(string[-1])\n",
    "print(string[-2])\n",
    "print(string[-3])"
   ]
  },
  {
   "cell_type": "code",
   "execution_count": 50,
   "id": "8a3d3a45",
   "metadata": {},
   "outputs": [
    {
     "ename": "TypeError",
     "evalue": "'str' object does not support item assignment",
     "output_type": "error",
     "traceback": [
      "\u001b[1;31m---------------------------------------------------------------------------\u001b[0m",
      "\u001b[1;31mTypeError\u001b[0m                                 Traceback (most recent call last)",
      "\u001b[1;32m<ipython-input-50-e35e544a3d02>\u001b[0m in \u001b[0;36m<module>\u001b[1;34m\u001b[0m\n\u001b[0;32m      1\u001b[0m \u001b[0mstring\u001b[0m\u001b[1;33m=\u001b[0m\u001b[1;34m\"Hello Sri\"\u001b[0m\u001b[1;33m\u001b[0m\u001b[1;33m\u001b[0m\u001b[0m\n\u001b[1;32m----> 2\u001b[1;33m \u001b[0mstring\u001b[0m\u001b[1;33m[\u001b[0m\u001b[1;36m1\u001b[0m\u001b[1;33m]\u001b[0m\u001b[1;33m=\u001b[0m\u001b[1;34m\"i\"\u001b[0m\u001b[1;33m\u001b[0m\u001b[1;33m\u001b[0m\u001b[0m\n\u001b[0m\u001b[0;32m      3\u001b[0m \u001b[1;32mdel\u001b[0m \u001b[0mstring\u001b[0m\u001b[1;33m[\u001b[0m\u001b[1;36m2\u001b[0m\u001b[1;33m]\u001b[0m\u001b[1;33m\u001b[0m\u001b[1;33m\u001b[0m\u001b[0m\n",
      "\u001b[1;31mTypeError\u001b[0m: 'str' object does not support item assignment"
     ]
    }
   ],
   "source": [
    "string=\"Hello Sri\"\n",
    "string[1]=\"i\"\n",
    "del string[2]"
   ]
  },
  {
   "cell_type": "code",
   "execution_count": 51,
   "id": "3ed89589",
   "metadata": {},
   "outputs": [
    {
     "name": "stdout",
     "output_type": "stream",
     "text": [
      "[]\n"
     ]
    }
   ],
   "source": [
    "List=[]\n",
    "print(List)"
   ]
  },
  {
   "cell_type": "code",
   "execution_count": 52,
   "id": "5cd71610",
   "metadata": {},
   "outputs": [
    {
     "name": "stdout",
     "output_type": "stream",
     "text": [
      "['AUM', 'NAMO']\n"
     ]
    }
   ],
   "source": [
    "List=[\"AUM\",\"NAMO\"]\n",
    "print(List)"
   ]
  },
  {
   "cell_type": "code",
   "execution_count": 53,
   "id": "fcd0cbe1",
   "metadata": {},
   "outputs": [
    {
     "name": "stdout",
     "output_type": "stream",
     "text": [
      "[['AUM', 'NAMAH'], ['SHIVAYA']]\n"
     ]
    }
   ],
   "source": [
    "List=[['AUM','NAMAH'],['SHIVAYA']]\n",
    "print(List)"
   ]
  },
  {
   "cell_type": "code",
   "execution_count": 54,
   "id": "c005df0c",
   "metadata": {},
   "outputs": [
    {
     "name": "stdout",
     "output_type": "stream",
     "text": [
      "[1, 2]\n"
     ]
    }
   ],
   "source": [
    "List=[]\n",
    "List.append(1)\n",
    "List.append(2)\n",
    "print(List)"
   ]
  },
  {
   "cell_type": "code",
   "execution_count": 69,
   "id": "7af23ec2",
   "metadata": {},
   "outputs": [
    {
     "name": "stdout",
     "output_type": "stream",
     "text": [
      "[1, 3, 3, 2]\n"
     ]
    }
   ],
   "source": [
    "List.insert(1,3)\n",
    "print(List)"
   ]
  },
  {
   "cell_type": "code",
   "execution_count": 70,
   "id": "5c10b6a9",
   "metadata": {},
   "outputs": [
    {
     "name": "stdout",
     "output_type": "stream",
     "text": [
      "[1, 3, 2]\n"
     ]
    }
   ],
   "source": [
    "# remove the first occurrence of element from 0 index\n",
    "List.remove(3)\n",
    "print(List)"
   ]
  },
  {
   "cell_type": "code",
   "execution_count": 71,
   "id": "2c30524b",
   "metadata": {},
   "outputs": [
    {
     "name": "stdout",
     "output_type": "stream",
     "text": [
      "[1, 3, 2, 4]\n"
     ]
    }
   ],
   "source": [
    "List.insert(3,4)\n",
    "print(List)"
   ]
  },
  {
   "cell_type": "code",
   "execution_count": 72,
   "id": "56514458",
   "metadata": {},
   "outputs": [
    {
     "name": "stdout",
     "output_type": "stream",
     "text": [
      "[1, 3, 2, 4, 3]\n"
     ]
    }
   ],
   "source": [
    "List.insert(4,3)\n",
    "print(List)"
   ]
  },
  {
   "cell_type": "code",
   "execution_count": 73,
   "id": "c01f21ea",
   "metadata": {},
   "outputs": [
    {
     "name": "stdout",
     "output_type": "stream",
     "text": [
      "[1, 2, 4, 3]\n"
     ]
    }
   ],
   "source": [
    "List.remove(3)\n",
    "print(List)"
   ]
  },
  {
   "cell_type": "code",
   "execution_count": 75,
   "id": "d9f4acd6",
   "metadata": {},
   "outputs": [
    {
     "name": "stdout",
     "output_type": "stream",
     "text": [
      "2\n"
     ]
    },
    {
     "ename": "IndexError",
     "evalue": "list index out of range",
     "output_type": "error",
     "traceback": [
      "\u001b[1;31m---------------------------------------------------------------------------\u001b[0m",
      "\u001b[1;31mIndexError\u001b[0m                                Traceback (most recent call last)",
      "\u001b[1;32m<ipython-input-75-d0ecee0e6c99>\u001b[0m in \u001b[0;36m<module>\u001b[1;34m\u001b[0m\n\u001b[0;32m      1\u001b[0m \u001b[0mprint\u001b[0m\u001b[1;33m(\u001b[0m\u001b[0mList\u001b[0m\u001b[1;33m[\u001b[0m\u001b[1;36m1\u001b[0m\u001b[1;33m]\u001b[0m\u001b[1;33m)\u001b[0m\u001b[1;33m\u001b[0m\u001b[1;33m\u001b[0m\u001b[0m\n\u001b[1;32m----> 2\u001b[1;33m \u001b[0mprint\u001b[0m\u001b[1;33m(\u001b[0m\u001b[0mList\u001b[0m\u001b[1;33m[\u001b[0m\u001b[1;36m4\u001b[0m\u001b[1;33m]\u001b[0m\u001b[1;33m)\u001b[0m\u001b[1;33m\u001b[0m\u001b[1;33m\u001b[0m\u001b[0m\n\u001b[0m\u001b[0;32m      3\u001b[0m \u001b[0mprint\u001b[0m\u001b[1;33m(\u001b[0m\u001b[0mList\u001b[0m\u001b[1;33m[\u001b[0m\u001b[1;33m-\u001b[0m\u001b[1;36m1\u001b[0m\u001b[1;33m]\u001b[0m\u001b[1;33m)\u001b[0m\u001b[1;33m\u001b[0m\u001b[1;33m\u001b[0m\u001b[0m\n\u001b[0;32m      4\u001b[0m \u001b[0mprint\u001b[0m\u001b[1;33m(\u001b[0m\u001b[0mList\u001b[0m\u001b[1;33m[\u001b[0m\u001b[1;33m-\u001b[0m\u001b[1;36m3\u001b[0m\u001b[1;33m]\u001b[0m\u001b[1;33m)\u001b[0m\u001b[1;33m\u001b[0m\u001b[1;33m\u001b[0m\u001b[0m\n",
      "\u001b[1;31mIndexError\u001b[0m: list index out of range"
     ]
    }
   ],
   "source": [
    "print(List[1])\n",
    "print(List[4])\n",
    "print(List[-1])\n",
    "print(List[-3])"
   ]
  },
  {
   "cell_type": "code",
   "execution_count": 78,
   "id": "a47758b4",
   "metadata": {},
   "outputs": [
    {
     "name": "stdout",
     "output_type": "stream",
     "text": [
      "2\n",
      "3\n",
      "3\n",
      "2\n"
     ]
    }
   ],
   "source": [
    "print(List[1])\n",
    "print(List[3])\n",
    "print(List[-1])\n",
    "print(List[-3])"
   ]
  },
  {
   "cell_type": "code",
   "execution_count": 79,
   "id": "4552af44",
   "metadata": {},
   "outputs": [
    {
     "name": "stdout",
     "output_type": "stream",
     "text": [
      "[1, 2, 4, 3]\n"
     ]
    }
   ],
   "source": [
    "print(List)"
   ]
  },
  {
   "cell_type": "code",
   "execution_count": 89,
   "id": "066a62f7",
   "metadata": {},
   "outputs": [
    {
     "name": "stdout",
     "output_type": "stream",
     "text": [
      "[1, 2, 4, 3, 4, 3, 4, 3, 4, 3, 4, 3]\n"
     ]
    }
   ],
   "source": [
    "List.append(4)\n",
    "List.append(3)\n",
    "print(List)"
   ]
  },
  {
   "cell_type": "code",
   "execution_count": 92,
   "id": "733e220c",
   "metadata": {},
   "outputs": [
    {
     "name": "stdout",
     "output_type": "stream",
     "text": [
      "[1, 2, 4, 3, 4, 3]\n"
     ]
    }
   ],
   "source": [
    "List.remove(4)\n",
    "List.remove(3)\n",
    "print(List)"
   ]
  },
  {
   "cell_type": "code",
   "execution_count": 94,
   "id": "ba7334f5",
   "metadata": {},
   "outputs": [
    {
     "name": "stdout",
     "output_type": "stream",
     "text": [
      "[1, 2, 4, 3]\n"
     ]
    }
   ],
   "source": [
    "List.pop()\n",
    "print(List)"
   ]
  },
  {
   "cell_type": "code",
   "execution_count": 96,
   "id": "1362c714",
   "metadata": {},
   "outputs": [
    {
     "name": "stdout",
     "output_type": "stream",
     "text": [
      "[1, 2]\n"
     ]
    }
   ],
   "source": [
    "List.pop()\n",
    "print(List)"
   ]
  },
  {
   "cell_type": "code",
   "execution_count": 97,
   "id": "1bbc1df0",
   "metadata": {},
   "outputs": [
    {
     "name": "stdout",
     "output_type": "stream",
     "text": [
      "(1, 2, 3)\n"
     ]
    }
   ],
   "source": [
    "Tuple=1,2,3\n",
    "print(Tuple)"
   ]
  },
  {
   "cell_type": "code",
   "execution_count": 98,
   "id": "01177076",
   "metadata": {},
   "outputs": [
    {
     "name": "stdout",
     "output_type": "stream",
     "text": [
      "(1, 2, 3)\n"
     ]
    }
   ],
   "source": [
    "Tuple1=(1,2,3)\n",
    "print(Tuple1)"
   ]
  },
  {
   "cell_type": "code",
   "execution_count": 99,
   "id": "5a762a8d",
   "metadata": {},
   "outputs": [
    {
     "name": "stdout",
     "output_type": "stream",
     "text": [
      "('Sri', 'Ram')\n"
     ]
    }
   ],
   "source": [
    "print(('Sri', 'Ram'))"
   ]
  },
  {
   "cell_type": "code",
   "execution_count": 100,
   "id": "7efc38e9",
   "metadata": {},
   "outputs": [
    {
     "name": "stdout",
     "output_type": "stream",
     "text": [
      "('Sri', 'Ram')\n"
     ]
    }
   ],
   "source": [
    "print(tuple(['Sri', 'Ram']))"
   ]
  },
  {
   "cell_type": "code",
   "execution_count": 101,
   "id": "e0b02285",
   "metadata": {},
   "outputs": [
    {
     "name": "stdout",
     "output_type": "stream",
     "text": [
      "(4, 5, 6)\n"
     ]
    }
   ],
   "source": [
    "Tuple2=(4,5,6)\n",
    "print(Tuple2)"
   ]
  },
  {
   "cell_type": "code",
   "execution_count": 102,
   "id": "f09189c9",
   "metadata": {},
   "outputs": [
    {
     "name": "stdout",
     "output_type": "stream",
     "text": [
      "((1, 2, 3), (4, 5, 6))\n"
     ]
    }
   ],
   "source": [
    "Tuple3=(Tuple1,Tuple2)\n",
    "print(Tuple3)"
   ]
  },
  {
   "cell_type": "code",
   "execution_count": 105,
   "id": "0e47d424",
   "metadata": {},
   "outputs": [
    {
     "ename": "TypeError",
     "evalue": "tuple expected at most 1 argument, got 6",
     "output_type": "error",
     "traceback": [
      "\u001b[1;31m---------------------------------------------------------------------------\u001b[0m",
      "\u001b[1;31mTypeError\u001b[0m                                 Traceback (most recent call last)",
      "\u001b[1;32m<ipython-input-105-f99ca5404d7e>\u001b[0m in \u001b[0;36m<module>\u001b[1;34m\u001b[0m\n\u001b[1;32m----> 1\u001b[1;33m \u001b[0mTuple4\u001b[0m\u001b[1;33m=\u001b[0m\u001b[0mtuple\u001b[0m\u001b[1;33m(\u001b[0m\u001b[1;36m1\u001b[0m\u001b[1;33m,\u001b[0m\u001b[1;36m2\u001b[0m\u001b[1;33m,\u001b[0m\u001b[1;36m3\u001b[0m\u001b[1;33m,\u001b[0m\u001b[1;36m4\u001b[0m\u001b[1;33m,\u001b[0m\u001b[1;36m5\u001b[0m\u001b[1;33m,\u001b[0m\u001b[1;36m6\u001b[0m\u001b[1;33m)\u001b[0m\u001b[1;33m\u001b[0m\u001b[1;33m\u001b[0m\u001b[0m\n\u001b[0m\u001b[0;32m      2\u001b[0m \u001b[0mprint\u001b[0m\u001b[1;33m(\u001b[0m\u001b[0mTuple4\u001b[0m\u001b[1;33m)\u001b[0m\u001b[1;33m\u001b[0m\u001b[1;33m\u001b[0m\u001b[0m\n",
      "\u001b[1;31mTypeError\u001b[0m: tuple expected at most 1 argument, got 6"
     ]
    }
   ],
   "source": [
    "Tuple4=tuple(1,2,3,4,5,6)\n",
    "print(Tuple4)"
   ]
  },
  {
   "cell_type": "code",
   "execution_count": 106,
   "id": "a47f3711",
   "metadata": {},
   "outputs": [
    {
     "name": "stdout",
     "output_type": "stream",
     "text": [
      "(1, 2, 3, 4, 5, 6)\n"
     ]
    }
   ],
   "source": [
    "Tuple4=tuple([1,2,3,4,5,6])\n",
    "print(Tuple4)"
   ]
  },
  {
   "cell_type": "code",
   "execution_count": 107,
   "id": "2bb8ea9e",
   "metadata": {},
   "outputs": [
    {
     "name": "stdout",
     "output_type": "stream",
     "text": [
      "5\n",
      "3\n"
     ]
    }
   ],
   "source": [
    "print(Tuple4[4])\n",
    "print(Tuple4[-4])"
   ]
  },
  {
   "cell_type": "code",
   "execution_count": 108,
   "id": "ade62ae0",
   "metadata": {},
   "outputs": [
    {
     "ename": "TypeError",
     "evalue": "'tuple' object does not support item assignment",
     "output_type": "error",
     "traceback": [
      "\u001b[1;31m---------------------------------------------------------------------------\u001b[0m",
      "\u001b[1;31mTypeError\u001b[0m                                 Traceback (most recent call last)",
      "\u001b[1;32m<ipython-input-108-f444852e306b>\u001b[0m in \u001b[0;36m<module>\u001b[1;34m\u001b[0m\n\u001b[1;32m----> 1\u001b[1;33m \u001b[0mTuple4\u001b[0m\u001b[1;33m[\u001b[0m\u001b[1;36m5\u001b[0m\u001b[1;33m]\u001b[0m\u001b[1;33m=\u001b[0m\u001b[1;36m7\u001b[0m\u001b[1;33m\u001b[0m\u001b[1;33m\u001b[0m\u001b[0m\n\u001b[0m",
      "\u001b[1;31mTypeError\u001b[0m: 'tuple' object does not support item assignment"
     ]
    }
   ],
   "source": [
    "Tuple4[5]=7"
   ]
  },
  {
   "cell_type": "code",
   "execution_count": 109,
   "id": "b1ce5931",
   "metadata": {},
   "outputs": [
    {
     "ename": "TypeError",
     "evalue": "'tuple' object doesn't support item deletion",
     "output_type": "error",
     "traceback": [
      "\u001b[1;31m---------------------------------------------------------------------------\u001b[0m",
      "\u001b[1;31mTypeError\u001b[0m                                 Traceback (most recent call last)",
      "\u001b[1;32m<ipython-input-109-dff6e5463212>\u001b[0m in \u001b[0;36m<module>\u001b[1;34m\u001b[0m\n\u001b[1;32m----> 1\u001b[1;33m \u001b[1;32mdel\u001b[0m \u001b[0mTuple4\u001b[0m\u001b[1;33m[\u001b[0m\u001b[1;36m5\u001b[0m\u001b[1;33m]\u001b[0m\u001b[1;33m\u001b[0m\u001b[1;33m\u001b[0m\u001b[0m\n\u001b[0m",
      "\u001b[1;31mTypeError\u001b[0m: 'tuple' object doesn't support item deletion"
     ]
    }
   ],
   "source": [
    "del Tuple4[5]"
   ]
  },
  {
   "cell_type": "code",
   "execution_count": 110,
   "id": "0b4e98df",
   "metadata": {},
   "outputs": [
    {
     "name": "stdout",
     "output_type": "stream",
     "text": [
      "<class 'bool'>\n",
      "<class 'bool'>\n"
     ]
    }
   ],
   "source": [
    "print(type(True))\n",
    "print(type(False))"
   ]
  },
  {
   "cell_type": "code",
   "execution_count": 111,
   "id": "8a955db1",
   "metadata": {},
   "outputs": [
    {
     "name": "stdout",
     "output_type": "stream",
     "text": [
      "False\n"
     ]
    }
   ],
   "source": [
    "print(0>1)"
   ]
  },
  {
   "cell_type": "code",
   "execution_count": 112,
   "id": "10fe3444",
   "metadata": {},
   "outputs": [
    {
     "name": "stdout",
     "output_type": "stream",
     "text": [
      "False\n"
     ]
    }
   ],
   "source": [
    "print('z'=='Z')"
   ]
  },
  {
   "cell_type": "code",
   "execution_count": 113,
   "id": "a37099c6",
   "metadata": {},
   "outputs": [
    {
     "name": "stdout",
     "output_type": "stream",
     "text": [
      "True\n"
     ]
    }
   ],
   "source": [
    "print('z'=='z')"
   ]
  },
  {
   "cell_type": "code",
   "execution_count": 114,
   "id": "646a6c65",
   "metadata": {},
   "outputs": [
    {
     "name": "stdout",
     "output_type": "stream",
     "text": [
      "{1, 2, 3}\n"
     ]
    }
   ],
   "source": [
    "Set={1,2,3}\n",
    "print(Set)"
   ]
  },
  {
   "cell_type": "code",
   "execution_count": 117,
   "id": "b69d23bd",
   "metadata": {},
   "outputs": [
    {
     "ename": "TypeError",
     "evalue": "set expected at most 1 argument, got 3",
     "output_type": "error",
     "traceback": [
      "\u001b[1;31m---------------------------------------------------------------------------\u001b[0m",
      "\u001b[1;31mTypeError\u001b[0m                                 Traceback (most recent call last)",
      "\u001b[1;32m<ipython-input-117-7bf326a0c654>\u001b[0m in \u001b[0;36m<module>\u001b[1;34m\u001b[0m\n\u001b[1;32m----> 1\u001b[1;33m \u001b[0mSet1\u001b[0m\u001b[1;33m=\u001b[0m\u001b[0mset\u001b[0m\u001b[1;33m(\u001b[0m\u001b[1;36m1\u001b[0m\u001b[1;33m,\u001b[0m\u001b[1;36m2\u001b[0m\u001b[1;33m,\u001b[0m\u001b[1;36m3\u001b[0m\u001b[1;33m)\u001b[0m\u001b[1;33m\u001b[0m\u001b[1;33m\u001b[0m\u001b[0m\n\u001b[0m\u001b[0;32m      2\u001b[0m \u001b[0mprint\u001b[0m\u001b[1;33m(\u001b[0m\u001b[0mSet1\u001b[0m\u001b[1;33m)\u001b[0m\u001b[1;33m\u001b[0m\u001b[1;33m\u001b[0m\u001b[0m\n",
      "\u001b[1;31mTypeError\u001b[0m: set expected at most 1 argument, got 3"
     ]
    }
   ],
   "source": [
    "Set1=set(1,2,3)\n",
    "print(Set1)"
   ]
  },
  {
   "cell_type": "code",
   "execution_count": 118,
   "id": "791c0c8d",
   "metadata": {},
   "outputs": [
    {
     "name": "stdout",
     "output_type": "stream",
     "text": [
      "{1, 2, 3}\n"
     ]
    }
   ],
   "source": [
    "Set1=set([1,2,3])\n",
    "print(Set1)"
   ]
  },
  {
   "cell_type": "code",
   "execution_count": 120,
   "id": "da13bae5",
   "metadata": {},
   "outputs": [
    {
     "name": "stdout",
     "output_type": "stream",
     "text": [
      "{'Sri', 'Ram'}\n"
     ]
    }
   ],
   "source": [
    "Set2=set([\"Sri\",\"Ram\"])\n",
    "print(Set2)"
   ]
  },
  {
   "cell_type": "code",
   "execution_count": 121,
   "id": "33d7c1c3",
   "metadata": {},
   "outputs": [
    {
     "name": "stdout",
     "output_type": "stream",
     "text": [
      "set()\n"
     ]
    }
   ],
   "source": [
    "Set3=set()\n",
    "print(Set3)"
   ]
  },
  {
   "cell_type": "code",
   "execution_count": 122,
   "id": "ef320b29",
   "metadata": {},
   "outputs": [
    {
     "name": "stdout",
     "output_type": "stream",
     "text": [
      "{8, (6, 7)}\n"
     ]
    }
   ],
   "source": [
    "Set3.add(8)\n",
    "Set3.add((6,7))\n",
    "print(Set3)"
   ]
  },
  {
   "cell_type": "code",
   "execution_count": 123,
   "id": "b2409c60",
   "metadata": {},
   "outputs": [
    {
     "name": "stdout",
     "output_type": "stream",
     "text": [
      "{8, (6, 7), 10, 11}\n"
     ]
    }
   ],
   "source": [
    "Set3.update([10,11])\n",
    "print(Set3)"
   ]
  },
  {
   "cell_type": "code",
   "execution_count": 124,
   "id": "e3f0c3f6",
   "metadata": {},
   "outputs": [
    {
     "name": "stdout",
     "output_type": "stream",
     "text": [
      "8 (6, 7) 10 11 "
     ]
    }
   ],
   "source": [
    "for i in Set3:\n",
    "    print(i, end=\" \")"
   ]
  },
  {
   "cell_type": "code",
   "execution_count": 125,
   "id": "7720ccfa",
   "metadata": {},
   "outputs": [
    {
     "name": "stdout",
     "output_type": "stream",
     "text": [
      "{8, (6, 7), 11}\n"
     ]
    }
   ],
   "source": [
    "Set3.remove(10)\n",
    "print(Set3)"
   ]
  },
  {
   "cell_type": "code",
   "execution_count": 126,
   "id": "726c8d74",
   "metadata": {},
   "outputs": [
    {
     "name": "stdout",
     "output_type": "stream",
     "text": [
      "{(6, 7), 11}\n"
     ]
    }
   ],
   "source": [
    "Set3.pop()\n",
    "print(Set3)"
   ]
  },
  {
   "cell_type": "code",
   "execution_count": 127,
   "id": "4edc1ed8",
   "metadata": {},
   "outputs": [
    {
     "name": "stdout",
     "output_type": "stream",
     "text": [
      "set()\n"
     ]
    }
   ],
   "source": [
    "Set3.clear()\n",
    "print(Set3)"
   ]
  },
  {
   "cell_type": "code",
   "execution_count": 128,
   "id": "82553e55",
   "metadata": {},
   "outputs": [
    {
     "name": "stdout",
     "output_type": "stream",
     "text": [
      "{}\n"
     ]
    }
   ],
   "source": [
    "Dict={}\n",
    "print(Dict)"
   ]
  },
  {
   "cell_type": "code",
   "execution_count": 129,
   "id": "cab293ea",
   "metadata": {},
   "outputs": [
    {
     "name": "stdout",
     "output_type": "stream",
     "text": [
      "{1: 'Sri', 2: 'Ram'}\n"
     ]
    }
   ],
   "source": [
    "Dict={1:'Sri',2:'Ram'}\n",
    "print(Dict)"
   ]
  },
  {
   "cell_type": "code",
   "execution_count": 130,
   "id": "1a8034b8",
   "metadata": {},
   "outputs": [
    {
     "name": "stdout",
     "output_type": "stream",
     "text": [
      "{'Name': 'Sri', 2: [1, 2, 3, 4]}\n"
     ]
    }
   ],
   "source": [
    "Dict={'Name':'Sri', 2:[1,2,3,4]}\n",
    "print(Dict)"
   ]
  },
  {
   "cell_type": "code",
   "execution_count": 131,
   "id": "879a34f5",
   "metadata": {},
   "outputs": [
    {
     "name": "stdout",
     "output_type": "stream",
     "text": [
      "{'Name': 'Sri', 2: 'Hanuman', 0: 'Jai', 3: 4}\n"
     ]
    }
   ],
   "source": [
    "Dict[0]='Jai'\n",
    "Dict[2]='Hanuman'\n",
    "Dict[3]=4\n",
    "print(Dict)"
   ]
  },
  {
   "cell_type": "code",
   "execution_count": 132,
   "id": "026f9435",
   "metadata": {},
   "outputs": [
    {
     "name": "stdout",
     "output_type": "stream",
     "text": [
      "Hanuman\n"
     ]
    }
   ],
   "source": [
    "print(Dict[2])"
   ]
  },
  {
   "cell_type": "code",
   "execution_count": 133,
   "id": "4657f150",
   "metadata": {},
   "outputs": [
    {
     "name": "stdout",
     "output_type": "stream",
     "text": [
      "Jai\n"
     ]
    }
   ],
   "source": [
    "print(Dict.get(0))"
   ]
  },
  {
   "cell_type": "code",
   "execution_count": 134,
   "id": "cb0dc84b",
   "metadata": {},
   "outputs": [
    {
     "name": "stdout",
     "output_type": "stream",
     "text": [
      "{'Name': 'Sri', 0: 'Jai', 3: 4}\n"
     ]
    }
   ],
   "source": [
    "Dict.pop(2)\n",
    "print(Dict)"
   ]
  },
  {
   "cell_type": "code",
   "execution_count": 135,
   "id": "3c8eb542",
   "metadata": {},
   "outputs": [
    {
     "data": {
      "text/plain": [
       "(3, 4)"
      ]
     },
     "execution_count": 135,
     "metadata": {},
     "output_type": "execute_result"
    }
   ],
   "source": [
    "Dict.popitem()"
   ]
  },
  {
   "cell_type": "code",
   "execution_count": 136,
   "id": "9011f986",
   "metadata": {},
   "outputs": [
    {
     "name": "stdout",
     "output_type": "stream",
     "text": [
      "{'Name': 'Sri', 0: 'Jai'}\n"
     ]
    }
   ],
   "source": [
    "print(Dict)"
   ]
  },
  {
   "cell_type": "code",
   "execution_count": 137,
   "id": "2c4d7360",
   "metadata": {},
   "outputs": [
    {
     "name": "stdout",
     "output_type": "stream",
     "text": [
      "x:  10\n",
      "y:  20\n"
     ]
    }
   ],
   "source": [
    "# default arguments\n",
    "def func1(x, y=20):\n",
    "    print(\"x: \", x)\n",
    "    print(\"y: \", y)\n",
    "func1(10)"
   ]
  },
  {
   "cell_type": "code",
   "execution_count": 140,
   "id": "31fe50bc",
   "metadata": {},
   "outputs": [
    {
     "name": "stdout",
     "output_type": "stream",
     "text": [
      "Sri Ram\n"
     ]
    }
   ],
   "source": [
    "# keyword arguments don't have to remember order of parameters\n",
    "def func2(first, second):\n",
    "    print(first, second)\n",
    "func2(second='Ram', first='Sri')"
   ]
  },
  {
   "cell_type": "code",
   "execution_count": 141,
   "id": "d2ce623a",
   "metadata": {},
   "outputs": [
    {
     "name": "stdout",
     "output_type": "stream",
     "text": [
      "Jai Sri Ram "
     ]
    }
   ],
   "source": [
    "# variable arguments\n",
    "def func3(*argv):\n",
    "    for arg in argv:\n",
    "        print(arg, end=\" \")\n",
    "func3('Jai', 'Sri', 'Ram')"
   ]
  },
  {
   "cell_type": "code",
   "execution_count": 146,
   "id": "71c2e96e",
   "metadata": {},
   "outputs": [
    {
     "name": "stdout",
     "output_type": "stream",
     "text": [
      "a -> Jai\n",
      "b -> Sri\n",
      "c -> Ram\n"
     ]
    }
   ],
   "source": [
    "# keyword arguments\n",
    "def func4(**kwargs):\n",
    "    for key, value in kwargs.items():\n",
    "        print(\"%s -> %s\" %(key,value))\n",
    "func4(a='Jai', b='Sri', c='Ram')"
   ]
  },
  {
   "cell_type": "code",
   "execution_count": null,
   "id": "b5ca7259",
   "metadata": {},
   "outputs": [],
   "source": []
  }
 ],
 "metadata": {
  "kernelspec": {
   "display_name": "Python 3",
   "language": "python",
   "name": "python3"
  },
  "language_info": {
   "codemirror_mode": {
    "name": "ipython",
    "version": 3
   },
   "file_extension": ".py",
   "mimetype": "text/x-python",
   "name": "python",
   "nbconvert_exporter": "python",
   "pygments_lexer": "ipython3",
   "version": "3.9.6"
  }
 },
 "nbformat": 4,
 "nbformat_minor": 5
}
