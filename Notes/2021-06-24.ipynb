{
 "cells": [
  {
   "cell_type": "code",
   "execution_count": 1,
   "id": "f6919b74",
   "metadata": {},
   "outputs": [
    {
     "name": "stdout",
     "output_type": "stream",
     "text": [
      "1 "
     ]
    },
    {
     "ename": "NameError",
     "evalue": "name 'a' is not defined",
     "output_type": "error",
     "traceback": [
      "\u001b[1;31m---------------------------------------------------------------------------\u001b[0m",
      "\u001b[1;31mNameError\u001b[0m                                 Traceback (most recent call last)",
      "\u001b[1;32m<ipython-input-1-34584a400c76>\u001b[0m in \u001b[0;36m<module>\u001b[1;34m\u001b[0m\n\u001b[0;32m      6\u001b[0m     \u001b[1;32myield\u001b[0m \u001b[1;36m1.1\u001b[0m\u001b[1;33m\u001b[0m\u001b[1;33m\u001b[0m\u001b[0m\n\u001b[0;32m      7\u001b[0m \u001b[1;33m\u001b[0m\u001b[0m\n\u001b[1;32m----> 8\u001b[1;33m \u001b[1;32mfor\u001b[0m \u001b[0mval\u001b[0m \u001b[1;32min\u001b[0m \u001b[0mgenerate\u001b[0m\u001b[1;33m(\u001b[0m\u001b[1;33m)\u001b[0m\u001b[1;33m:\u001b[0m\u001b[1;33m\u001b[0m\u001b[1;33m\u001b[0m\u001b[0m\n\u001b[0m\u001b[0;32m      9\u001b[0m     \u001b[0mprint\u001b[0m\u001b[1;33m(\u001b[0m\u001b[0mval\u001b[0m\u001b[1;33m,\u001b[0m \u001b[0mend\u001b[0m\u001b[1;33m=\u001b[0m\u001b[1;34m\" \"\u001b[0m\u001b[1;33m)\u001b[0m\u001b[1;33m\u001b[0m\u001b[1;33m\u001b[0m\u001b[0m\n",
      "\u001b[1;32m<ipython-input-1-34584a400c76>\u001b[0m in \u001b[0;36mgenerate\u001b[1;34m()\u001b[0m\n\u001b[0;32m      1\u001b[0m \u001b[1;32mdef\u001b[0m \u001b[0mgenerate\u001b[0m\u001b[1;33m(\u001b[0m\u001b[1;33m)\u001b[0m\u001b[1;33m:\u001b[0m\u001b[1;33m\u001b[0m\u001b[1;33m\u001b[0m\u001b[0m\n\u001b[0;32m      2\u001b[0m     \u001b[1;32myield\u001b[0m \u001b[1;36m1\u001b[0m\u001b[1;33m\u001b[0m\u001b[1;33m\u001b[0m\u001b[0m\n\u001b[1;32m----> 3\u001b[1;33m     \u001b[1;32myield\u001b[0m \u001b[0ma\u001b[0m\u001b[1;33m\u001b[0m\u001b[1;33m\u001b[0m\u001b[0m\n\u001b[0m\u001b[0;32m      4\u001b[0m     \u001b[1;32myield\u001b[0m \u001b[1;34m'z'\u001b[0m\u001b[1;33m\u001b[0m\u001b[1;33m\u001b[0m\u001b[0m\n\u001b[0;32m      5\u001b[0m     \u001b[1;32myield\u001b[0m \u001b[1;34m\"Hello\"\u001b[0m\u001b[1;33m\u001b[0m\u001b[1;33m\u001b[0m\u001b[0m\n",
      "\u001b[1;31mNameError\u001b[0m: name 'a' is not defined"
     ]
    }
   ],
   "source": [
    "# yield statement suspends function’s execution and sends a value back to the caller, \n",
    "# but retains enough state to enable function to resume where it is left off. \n",
    "# When resumed, the function continues execution immediately after the last yield run. \n",
    "# This allows its code to produce a series of values over time, \n",
    "# rather than computing them at once and sending them back like a list.\n",
    "\n",
    "def generate():\n",
    "    yield 1\n",
    "    yield a\n",
    "    yield 'z'\n",
    "    yield \"Hello\"\n",
    "    yield 1.1\n",
    "\n",
    "for val in generate():\n",
    "    print(val, end=\" \")"
   ]
  },
  {
   "cell_type": "code",
   "execution_count": 2,
   "id": "765d9d7d",
   "metadata": {},
   "outputs": [
    {
     "name": "stdout",
     "output_type": "stream",
     "text": [
      "1.1\n",
      "1.2\n",
      "1.3\n"
     ]
    }
   ],
   "source": [
    "def generate():\n",
    "    yield 1.1\n",
    "    yield 1.2\n",
    "    yield 1.3\n",
    "\n",
    "for value in generate():\n",
    "    print(value)"
   ]
  },
  {
   "cell_type": "code",
   "execution_count": 3,
   "id": "eb4c0c1d",
   "metadata": {},
   "outputs": [
    {
     "name": "stdout",
     "output_type": "stream",
     "text": [
      "1.1\n",
      "1\n",
      "z\n",
      "x\n"
     ]
    }
   ],
   "source": [
    "def generate():\n",
    "    yield 1.1\n",
    "    yield 1\n",
    "    yield 'z'\n",
    "    yield \"x\"\n",
    "\n",
    "for value in generate():\n",
    "    print(value)"
   ]
  },
  {
   "cell_type": "code",
   "execution_count": 4,
   "id": "1a704c62",
   "metadata": {},
   "outputs": [
    {
     "name": "stdout",
     "output_type": "stream",
     "text": [
      "1.1\n",
      "1\n",
      "z\n",
      "x\n",
      "[1, 2, 3]\n",
      "('a', 'b', 'c')\n",
      "{0: 'a', 1: 'b', 2: 'c'}\n"
     ]
    }
   ],
   "source": [
    "def generate():\n",
    "    yield 1.1\n",
    "    yield 1\n",
    "    yield 'z'\n",
    "    yield \"x\"\n",
    "    yield [1, 2, 3]\n",
    "    yield ('a', 'b', 'c')\n",
    "    yield {0: 'a', 1: 'b', 2: 'c'}\n",
    "\n",
    "for value in generate():\n",
    "    print(value)"
   ]
  },
  {
   "cell_type": "code",
   "execution_count": 6,
   "id": "0419789b",
   "metadata": {},
   "outputs": [
    {
     "name": "stdout",
     "output_type": "stream",
     "text": [
      "1\n",
      "4\n",
      "9\n",
      "16\n",
      "25\n",
      "36\n",
      "49\n",
      "64\n",
      "81\n",
      "100\n"
     ]
    }
   ],
   "source": [
    "def generate():\n",
    "    i = 1\n",
    "    \n",
    "    while True:\n",
    "        yield i * i\n",
    "        i = i + 1\n",
    "    \n",
    "for num in generate():\n",
    "    if num > 100:\n",
    "        break\n",
    "    print(num)"
   ]
  },
  {
   "cell_type": "code",
   "execution_count": 8,
   "id": "c3b12d42",
   "metadata": {},
   "outputs": [
    {
     "name": "stdout",
     "output_type": "stream",
     "text": [
      "1\n",
      "x\n"
     ]
    }
   ],
   "source": [
    "# variables are case-sensitive\n",
    "a = 1\n",
    "A = 'x'\n",
    "print(a)\n",
    "print(A)"
   ]
  },
  {
   "cell_type": "code",
   "execution_count": 9,
   "id": "88c27ce5",
   "metadata": {},
   "outputs": [
    {
     "name": "stdout",
     "output_type": "stream",
     "text": [
      "a is divisible by b\n",
      "a is not divisible by b\n"
     ]
    }
   ],
   "source": [
    "# function to check divisibility\n",
    "def checkDivisible(a, b):\n",
    "    if a % b == 0:\n",
    "        print(\"a is divisible by b\")\n",
    "    else:\n",
    "        print(\"a is not divisible by b\")\n",
    "\n",
    "checkDivisible(8, 2)\n",
    "checkDivisible(5, 2)\n",
    "        "
   ]
  },
  {
   "cell_type": "code",
   "execution_count": 11,
   "id": "c7127c86",
   "metadata": {},
   "outputs": [
    {
     "name": "stdout",
     "output_type": "stream",
     "text": [
      "Lenovo\n",
      "Intel\n"
     ]
    }
   ],
   "source": [
    "# return multiple values\n",
    "# using object\n",
    "class Computer:\n",
    "    def __init__(self):\n",
    "        self.brand = \"Lenovo\"\n",
    "        self.processor = \"Intel\"\n",
    "        self.memory = \"1TB\"\n",
    "        self.core = 8\n",
    "\n",
    "def main():\n",
    "    obj = Computer()\n",
    "    print(obj.brand)\n",
    "    print(obj.processor)\n",
    "\n",
    "if __name__ == \"__main__\":\n",
    "    main()"
   ]
  },
  {
   "cell_type": "code",
   "execution_count": 14,
   "id": "f8dd5283",
   "metadata": {},
   "outputs": [
    {
     "name": "stdout",
     "output_type": "stream",
     "text": [
      "Hello\n",
      "1.1\n"
     ]
    }
   ],
   "source": [
    "# using tuple\n",
    "def get():\n",
    "    str = \"Hello\"\n",
    "    x = 1.1\n",
    "    return str, x\n",
    "\n",
    "def main():\n",
    "    str, x = get()\n",
    "    print(str)\n",
    "    print(x)\n",
    "\n",
    "if __name__ == \"__main__\":\n",
    "    main()"
   ]
  },
  {
   "cell_type": "code",
   "execution_count": 15,
   "id": "444c6c2c",
   "metadata": {},
   "outputs": [
    {
     "name": "stdout",
     "output_type": "stream",
     "text": [
      "['Hello', 1]\n"
     ]
    }
   ],
   "source": [
    "# using list\n",
    "def get():\n",
    "    str = \"Hello\"\n",
    "    x = 1\n",
    "    return [str, x]\n",
    "\n",
    "lst = get()\n",
    "print(lst)"
   ]
  },
  {
   "cell_type": "code",
   "execution_count": 16,
   "id": "12b1ca40",
   "metadata": {},
   "outputs": [
    {
     "name": "stdout",
     "output_type": "stream",
     "text": [
      "{'str': 'Hello', 'x': 1}\n"
     ]
    }
   ],
   "source": [
    "# using dictionary\n",
    "def get():\n",
    "    d = dict()\n",
    "    d['str'] = \"Hello\"\n",
    "    d['x'] = 1\n",
    "    return d\n",
    "d = get()\n",
    "print(d)"
   ]
  },
  {
   "cell_type": "code",
   "execution_count": 19,
   "id": "ebcd0ba1",
   "metadata": {},
   "outputs": [
    {
     "ename": "TypeError",
     "evalue": "Book() takes no arguments",
     "output_type": "error",
     "traceback": [
      "\u001b[1;31m---------------------------------------------------------------------------\u001b[0m",
      "\u001b[1;31mTypeError\u001b[0m                                 Traceback (most recent call last)",
      "\u001b[1;32m<ipython-input-19-d1973297ed05>\u001b[0m in \u001b[0;36m<module>\u001b[1;34m\u001b[0m\n\u001b[0;32m     10\u001b[0m         \u001b[1;32mreturn\u001b[0m \u001b[0mself\u001b[0m\u001b[1;33m.\u001b[0m\u001b[0mperunit_cost\u001b[0m \u001b[1;33m*\u001b[0m \u001b[0mself\u001b[0m\u001b[1;33m.\u001b[0m\u001b[0mquantity_available\u001b[0m\u001b[1;33m\u001b[0m\u001b[1;33m\u001b[0m\u001b[0m\n\u001b[0;32m     11\u001b[0m \u001b[1;33m\u001b[0m\u001b[0m\n\u001b[1;32m---> 12\u001b[1;33m \u001b[0mbook\u001b[0m \u001b[1;33m=\u001b[0m \u001b[0mBook\u001b[0m\u001b[1;33m(\u001b[0m\u001b[1;34m\"Python\"\u001b[0m\u001b[1;33m,\u001b[0m \u001b[1;36m200\u001b[0m\u001b[1;33m,\u001b[0m \u001b[1;36m3\u001b[0m\u001b[1;33m)\u001b[0m\u001b[1;33m\u001b[0m\u001b[1;33m\u001b[0m\u001b[0m\n\u001b[0m\u001b[0;32m     13\u001b[0m \u001b[0mprint\u001b[0m\u001b[1;33m(\u001b[0m\u001b[0mbook\u001b[0m\u001b[1;33m.\u001b[0m\u001b[0mtotal_cost\u001b[0m\u001b[1;33m(\u001b[0m\u001b[1;33m)\u001b[0m\u001b[1;33m)\u001b[0m\u001b[1;33m\u001b[0m\u001b[1;33m\u001b[0m\u001b[0m\n\u001b[0;32m     14\u001b[0m \u001b[1;33m\u001b[0m\u001b[0m\n",
      "\u001b[1;31mTypeError\u001b[0m: Book() takes no arguments"
     ]
    }
   ],
   "source": [
    "# using dataclass\n",
    "from dataclasses import dataclass\n",
    "\n",
    "class Book:\n",
    "    name: str\n",
    "    perunit_cost: float\n",
    "    quantity_available: int = 0\n",
    "    \n",
    "    def total_cost(self) -> float:\n",
    "        return self.perunit_cost * self.quantity_available\n",
    "\n",
    "book = Book(\"Python\", 200, 3)\n",
    "print(book.total_cost())    "
   ]
  },
  {
   "cell_type": "code",
   "execution_count": 20,
   "id": "69f004af",
   "metadata": {},
   "outputs": [
    {
     "name": "stdout",
     "output_type": "stream",
     "text": [
      "600\n"
     ]
    }
   ],
   "source": [
    "# using dataclass\n",
    "from dataclasses import dataclass\n",
    "\n",
    "@dataclass\n",
    "class Book:\n",
    "    name: str\n",
    "    perunit_cost: float\n",
    "    quantity_available: int = 0\n",
    "    \n",
    "    def total_cost(self) -> float:\n",
    "        return self.perunit_cost * self.quantity_available\n",
    "\n",
    "book = Book(\"Python\", 200, 3)\n",
    "print(book.total_cost())"
   ]
  },
  {
   "cell_type": "code",
   "execution_count": 21,
   "id": "794d8833",
   "metadata": {},
   "outputs": [
    {
     "name": "stdout",
     "output_type": "stream",
     "text": [
      "5.0\n",
      "120\n"
     ]
    }
   ],
   "source": [
    "from math import factorial, sqrt\n",
    "\n",
    "print(sqrt(25))\n",
    "print(factorial(5))"
   ]
  },
  {
   "cell_type": "code",
   "execution_count": 22,
   "id": "0ec41373",
   "metadata": {},
   "outputs": [
    {
     "name": "stdout",
     "output_type": "stream",
     "text": [
      "['__call__', '__class__', '__delattr__', '__dir__', '__doc__', '__eq__', '__format__', '__ge__', '__getattribute__', '__gt__', '__hash__', '__init__', '__init_subclass__', '__le__', '__lt__', '__module__', '__name__', '__ne__', '__new__', '__qualname__', '__reduce__', '__reduce_ex__', '__repr__', '__self__', '__setattr__', '__sizeof__', '__str__', '__subclasshook__', '__text_signature__']\n"
     ]
    }
   ],
   "source": [
    "from random import *\n",
    "\n",
    "print(dir(random))"
   ]
  },
  {
   "cell_type": "code",
   "execution_count": 23,
   "id": "22e7b0a8",
   "metadata": {},
   "outputs": [
    {
     "name": "stdout",
     "output_type": "stream",
     "text": [
      "['BPF', 'LOG4', 'NV_MAGICCONST', 'RECIP_BPF', 'Random', 'SG_MAGICCONST', 'SystemRandom', 'TWOPI', '_Sequence', '_Set', '__all__', '__builtins__', '__cached__', '__doc__', '__file__', '__loader__', '__name__', '__package__', '__spec__', '_accumulate', '_acos', '_bisect', '_ceil', '_cos', '_e', '_exp', '_floor', '_inst', '_log', '_os', '_pi', '_random', '_repeat', '_sha512', '_sin', '_sqrt', '_test', '_test_generator', '_urandom', '_warn', 'betavariate', 'choice', 'choices', 'expovariate', 'gammavariate', 'gauss', 'getrandbits', 'getstate', 'lognormvariate', 'normalvariate', 'paretovariate', 'randbytes', 'randint', 'random', 'randrange', 'sample', 'seed', 'setstate', 'shuffle', 'triangular', 'uniform', 'vonmisesvariate', 'weibullvariate']\n"
     ]
    }
   ],
   "source": [
    "import random\n",
    "\n",
    "print(dir(random))"
   ]
  },
  {
   "cell_type": "code",
   "execution_count": 24,
   "id": "7a80bd97",
   "metadata": {},
   "outputs": [
    {
     "name": "stdout",
     "output_type": "stream",
     "text": [
      "4.0\n",
      "3.141592653589793\n",
      "114.59155902616465\n",
      "1.0471975511965976\n",
      "0.9092974268256817\n",
      "0.8775825618903728\n",
      "0.23414336235146527\n",
      "24\n",
      "3\n",
      "0.3739632014285832\n",
      "92.7325626597646\n",
      "z\n",
      "1624536405.797413\n",
      "1970-01-29\n"
     ]
    }
   ],
   "source": [
    "import math\n",
    "\n",
    "print(math.sqrt(16))\n",
    "print(math.pi)\n",
    "print(math.degrees(2)) # 2 radians = 114.59 degrees\n",
    "print(math.radians(60)) # 60 degrees = 1.04 radians\n",
    "print(math.sin(2))\n",
    "print(math.cos(0.5))\n",
    "print(math.tan(0.23))\n",
    "print(math.factorial(4))\n",
    "\n",
    "import random\n",
    "print(random.randint(0, 5))\n",
    "print(random.random())\n",
    "print(random.random() * 100)\n",
    "lst = [1, 2.4, False, 92434, \"Hello\", 23, 'z']\n",
    "print(random.choice(lst))\n",
    "\n",
    "import datetime\n",
    "from datetime import date\n",
    "import time\n",
    "\n",
    "print(time.time())\n",
    "print(date.fromtimestamp(2435254))\n"
   ]
  },
  {
   "cell_type": "code",
   "execution_count": 40,
   "id": "2437e019",
   "metadata": {},
   "outputs": [
    {
     "name": "stdout",
     "output_type": "stream",
     "text": [
      "{'x': 1, 'y': 2, 'z': 3}\n",
      "dict_keys(['x', 'y', 'z'])\n",
      "dict_values([1, 2, 3])\n",
      "x 1\n",
      "y 2\n",
      "z 3\n",
      "0 x 1\n",
      "1 y 2\n",
      "2 z 3\n",
      "False\n",
      "True\n",
      "False\n",
      "{'x': 1, 'z': 3}\n"
     ]
    }
   ],
   "source": [
    "d = {}\n",
    "d['x']=1\n",
    "d['y']=2\n",
    "d['z']=3\n",
    "\n",
    "print(d)\n",
    "print(d.keys())\n",
    "print(d.values())\n",
    "\n",
    "for i in d:\n",
    "    #print(i, d[i])\n",
    "    print(\"%s %d\" %(i, d[i]))\n",
    "    \n",
    "for index, key in enumerate(d):\n",
    "    print(index, key, d[key])\n",
    "    \n",
    "print('xyz' in d)\n",
    "print('y' in d)\n",
    "del d['y']\n",
    "print('y' in d)\n",
    "print(d)"
   ]
  },
  {
   "cell_type": "code",
   "execution_count": 51,
   "id": "ddb39610",
   "metadata": {},
   "outputs": [
    {
     "name": "stdout",
     "output_type": "stream",
     "text": [
      "1 2 3 4 5 6 7 8 "
     ]
    }
   ],
   "source": [
    "# using break\n",
    "def loop(arr):\n",
    "    for i in arr:\n",
    "        if i == 9:\n",
    "            break\n",
    "        print(i, end=\" \")\n",
    "    # print('\\n')\n",
    "arr = [i for i in range(1, 10)]\n",
    "loop(arr)"
   ]
  },
  {
   "cell_type": "code",
   "execution_count": 50,
   "id": "51572e05",
   "metadata": {},
   "outputs": [
    {
     "name": "stdout",
     "output_type": "stream",
     "text": [
      "12456789"
     ]
    }
   ],
   "source": [
    "# using continue\n",
    "def loop(arr):\n",
    "    for i in arr:\n",
    "        if i == 3:\n",
    "            continue\n",
    "        print(i, end=\" \")\n",
    "arr = [i for i in range(1, 10)]\n",
    "loop(arr)"
   ]
  },
  {
   "cell_type": "code",
   "execution_count": 52,
   "id": "852866cf",
   "metadata": {},
   "outputs": [
    {
     "name": "stdout",
     "output_type": "stream",
     "text": [
      "[1, 2, 3, 4, 5, 6, 7, 8, 9]\n"
     ]
    }
   ],
   "source": [
    "def loop(arr):\n",
    "    pass\n",
    "    print(arr)\n",
    "\n",
    "arr = [i for i in range(1, 10)]\n",
    "loop(arr)"
   ]
  },
  {
   "cell_type": "code",
   "execution_count": null,
   "id": "056d675b",
   "metadata": {},
   "outputs": [],
   "source": []
  }
 ],
 "metadata": {
  "kernelspec": {
   "display_name": "Python 3",
   "language": "python",
   "name": "python3"
  },
  "language_info": {
   "codemirror_mode": {
    "name": "ipython",
    "version": 3
   },
   "file_extension": ".py",
   "mimetype": "text/x-python",
   "name": "python",
   "nbconvert_exporter": "python",
   "pygments_lexer": "ipython3",
   "version": "3.9.5"
  }
 },
 "nbformat": 4,
 "nbformat_minor": 5
}
