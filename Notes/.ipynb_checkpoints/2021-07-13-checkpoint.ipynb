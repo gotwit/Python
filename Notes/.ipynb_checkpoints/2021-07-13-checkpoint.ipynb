{
 "cells": [
  {
   "cell_type": "code",
   "execution_count": 1,
   "id": "ed990357",
   "metadata": {},
   "outputs": [
    {
     "data": {
      "text/plain": [
       "0"
      ]
     },
     "execution_count": 1,
     "metadata": {},
     "output_type": "execute_result"
    }
   ],
   "source": [
    "# bitwise AND x & y\n",
    "a = 10\n",
    "b = 4\n",
    "a & b\n",
    "# 1010 & 0100"
   ]
  },
  {
   "cell_type": "code",
   "execution_count": 6,
   "id": "9e4f2a47",
   "metadata": {},
   "outputs": [
    {
     "data": {
      "text/plain": [
       "14"
      ]
     },
     "execution_count": 6,
     "metadata": {},
     "output_type": "execute_result"
    }
   ],
   "source": [
    "# bitwise OR x | y\n",
    "a = 10\n",
    "b = 4\n",
    "a | b\n",
    "# 1010 | 0100"
   ]
  },
  {
   "cell_type": "code",
   "execution_count": 8,
   "id": "e0abe69b",
   "metadata": {},
   "outputs": [
    {
     "data": {
      "text/plain": [
       "-11"
      ]
     },
     "execution_count": 8,
     "metadata": {},
     "output_type": "execute_result"
    }
   ],
   "source": [
    "# bitwise NOT ~\n",
    "a = 10\n",
    "~a\n",
    "# ~1010\n",
    "# -(1010 + 1)\n",
    "# -(1011)\n",
    "# -11"
   ]
  },
  {
   "cell_type": "code",
   "execution_count": 9,
   "id": "59f6919d",
   "metadata": {},
   "outputs": [
    {
     "data": {
      "text/plain": [
       "14"
      ]
     },
     "execution_count": 9,
     "metadata": {},
     "output_type": "execute_result"
    }
   ],
   "source": [
    "# bitwise XOR ^\n",
    "a = 10\n",
    "b = 4\n",
    "a ^ b\n",
    "# 1010 ^ 0100\n",
    "# 1110"
   ]
  },
  {
   "cell_type": "code",
   "execution_count": null,
   "id": "99407cad",
   "metadata": {},
   "outputs": [],
   "source": []
  }
 ],
 "metadata": {
  "kernelspec": {
   "display_name": "Python 3",
   "language": "python",
   "name": "python3"
  },
  "language_info": {
   "codemirror_mode": {
    "name": "ipython",
    "version": 3
   },
   "file_extension": ".py",
   "mimetype": "text/x-python",
   "name": "python",
   "nbconvert_exporter": "python",
   "pygments_lexer": "ipython3",
   "version": "3.9.6"
  }
 },
 "nbformat": 4,
 "nbformat_minor": 5
}
