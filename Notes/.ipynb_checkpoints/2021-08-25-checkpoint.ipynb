{
 "cells": [
  {
   "cell_type": "code",
   "execution_count": 3,
   "id": "6f191559",
   "metadata": {},
   "outputs": [
    {
     "name": "stdout",
     "output_type": "stream",
     "text": [
      "AUM\n"
     ]
    }
   ],
   "source": [
    "print('AUM')"
   ]
  },
  {
   "cell_type": "code",
   "execution_count": 7,
   "id": "e51eff4a",
   "metadata": {},
   "outputs": [
    {
     "name": "stdout",
     "output_type": "stream",
     "text": [
      "True\n",
      "False\n"
     ]
    }
   ],
   "source": [
    "# Identity operator\n",
    "var1='Om Gan Ganpathaye Namaha'\n",
    "var2='Om Namah Shivaya'\n",
    "print(var1 is not var2)\n",
    "print(var1 is var2)"
   ]
  },
  {
   "cell_type": "code",
   "execution_count": 10,
   "id": "662eda92",
   "metadata": {},
   "outputs": [
    {
     "name": "stdout",
     "output_type": "stream",
     "text": [
      "False\n",
      "False\n"
     ]
    }
   ],
   "source": [
    "# Membership operator\n",
    "var1='Om Gan Ganapathaye Namaha'\n",
    "var2='Om Namah Shivaya'\n",
    "print(\"k\" in var1)\n",
    "print(\"S\" not in var2)"
   ]
  },
  {
   "cell_type": "code",
   "execution_count": 16,
   "id": "64cfc71f",
   "metadata": {},
   "outputs": [
    {
     "name": "stdout",
     "output_type": "stream",
     "text": [
      "Enter your value: ['a','b','c']\n",
      "['a','b','c']\n"
     ]
    }
   ],
   "source": [
    "val=input(\"Enter your value: \")\n",
    "print(val)"
   ]
  },
  {
   "cell_type": "code",
   "execution_count": 17,
   "id": "34500a16",
   "metadata": {},
   "outputs": [
    {
     "name": "stdout",
     "output_type": "stream",
     "text": [
      "Enter your value: 10\n",
      "10\n"
     ]
    }
   ],
   "source": [
    "val=input(\"Enter your value: \")\n",
    "print(val)"
   ]
  },
  {
   "cell_type": "code",
   "execution_count": 18,
   "id": "86b4f349",
   "metadata": {},
   "outputs": [
    {
     "name": "stdout",
     "output_type": "stream",
     "text": [
      "Enter your value: c\n",
      "c\n"
     ]
    }
   ],
   "source": [
    "val=input(\"Enter your value: \")\n",
    "print(val)"
   ]
  },
  {
   "cell_type": "code",
   "execution_count": 19,
   "id": "35312f33",
   "metadata": {},
   "outputs": [
    {
     "name": "stdout",
     "output_type": "stream",
     "text": [
      "Enter your value: \"sri\"\n",
      "\"sri\"\n"
     ]
    }
   ],
   "source": [
    "val=input(\"Enter your value: \")\n",
    "print(val)"
   ]
  },
  {
   "cell_type": "code",
   "execution_count": 20,
   "id": "2abbcdc4",
   "metadata": {},
   "outputs": [
    {
     "name": "stdout",
     "output_type": "stream",
     "text": [
      "Enter your value: 1.1\n",
      "1.1\n"
     ]
    }
   ],
   "source": [
    "val=input(\"Enter your value: \")\n",
    "print(val)"
   ]
  },
  {
   "cell_type": "code",
   "execution_count": 21,
   "id": "5130178a",
   "metadata": {},
   "outputs": [
    {
     "name": "stdout",
     "output_type": "stream",
     "text": [
      "Enter your value: [var1:10, var2:20, var3:30]\n",
      "[var1:10, var2:20, var3:30]\n"
     ]
    }
   ],
   "source": [
    "val=input(\"Enter your value: \")\n",
    "print(val)"
   ]
  },
  {
   "cell_type": "code",
   "execution_count": 24,
   "id": "ae59a35e",
   "metadata": {},
   "outputs": [
    {
     "name": "stdout",
     "output_type": "stream",
     "text": [
      "\n"
     ]
    }
   ],
   "source": [
    "# Zero or more expression separated by commas.\n",
    "# Converts expressions into a string.\n",
    "print()"
   ]
  },
  {
   "cell_type": "code",
   "execution_count": 25,
   "id": "f50d7460",
   "metadata": {},
   "outputs": [
    {
     "name": "stdout",
     "output_type": "stream",
     "text": [
      "Aum Namah Shivaya\n"
     ]
    }
   ],
   "source": [
    "print('Aum Namah Shivaya')"
   ]
  },
  {
   "cell_type": "code",
   "execution_count": 31,
   "id": "909bd854",
   "metadata": {},
   "outputs": [
    {
     "name": "stdout",
     "output_type": "stream",
     "text": [
      "x= 1\n"
     ]
    }
   ],
   "source": [
    "print(\"x=\", 1)"
   ]
  },
  {
   "cell_type": "code",
   "execution_count": 34,
   "id": "154538f9",
   "metadata": {},
   "outputs": [
    {
     "name": "stdout",
     "output_type": "stream",
     "text": [
      "AUM\n"
     ]
    }
   ],
   "source": [
    "print('A', 'U', 'M', sep='')"
   ]
  },
  {
   "cell_type": "code",
   "execution_count": 35,
   "id": "48318c87",
   "metadata": {},
   "outputs": [
    {
     "name": "stdout",
     "output_type": "stream",
     "text": [
      "AUM@"
     ]
    }
   ],
   "source": [
    "print('AUM',end='@')"
   ]
  },
  {
   "cell_type": "code",
   "execution_count": 38,
   "id": "718e1a78",
   "metadata": {},
   "outputs": [
    {
     "name": "stdout",
     "output_type": "stream",
     "text": [
      "Type of a:  <class 'int'>\n",
      "Type of b:  <class 'float'>\n",
      "Type of c:  <class 'complex'>\n"
     ]
    }
   ],
   "source": [
    "# Data type\n",
    "# Numeric\n",
    "# -Integer, Float, Complex Number\n",
    "# Dictionary\n",
    "# Boolean\n",
    "# Set\n",
    "# Sequence Type\n",
    "# - Strings, List, Tuple\n",
    "\n",
    "a=5\n",
    "b=2.2\n",
    "c=2+4j\n",
    "print('Type of a: ', type(a))\n",
    "print('Type of b: ', type(b))\n",
    "print('Type of c: ', type(c))"
   ]
  },
  {
   "cell_type": "code",
   "execution_count": 39,
   "id": "97270cd2",
   "metadata": {},
   "outputs": [
    {
     "name": "stdout",
     "output_type": "stream",
     "text": [
      "AUM\n",
      "AUM\n",
      "AUM\n"
     ]
    }
   ],
   "source": [
    "# Sequence Type\n",
    "# - String, Tuple, List\n",
    "# String collection of one or more characters\n",
    "singleQuote='AUM'\n",
    "doubleQuote=\"AUM\"\n",
    "tripleQuote='''AUM'''\n",
    "print(singleQuote)\n",
    "print(doubleQuote)\n",
    "print(tripleQuote)"
   ]
  },
  {
   "cell_type": "code",
   "execution_count": 42,
   "id": "1d6db1ee",
   "metadata": {
    "scrolled": true
   },
   "outputs": [
    {
     "name": "stdout",
     "output_type": "stream",
     "text": [
      "c\n",
      "Type of char:  <class 'str'>\n"
     ]
    }
   ],
   "source": [
    "# character is a string of length 1 in python\n",
    "# since there is no character data type in python\n",
    "char='c'\n",
    "print(char)\n",
    "print('Type of char: ', type(char))"
   ]
  },
  {
   "cell_type": "code",
   "execution_count": 45,
   "id": "961426c4",
   "metadata": {
    "scrolled": false
   },
   "outputs": [
    {
     "name": "stdout",
     "output_type": "stream",
     "text": [
      "len:  17\n",
      "U\n",
      "A\n",
      "Y\n",
      "A\n"
     ]
    }
   ],
   "source": [
    "string='AUM NAMAH SHIVAYA'\n",
    "print('len: ', len(string))\n",
    "print(string[1])\n",
    "print(string[-1])\n",
    "print(string[-2])\n",
    "print(string[-3])"
   ]
  },
  {
   "cell_type": "code",
   "execution_count": 50,
   "id": "8a8d596f",
   "metadata": {},
   "outputs": [
    {
     "ename": "TypeError",
     "evalue": "'str' object does not support item assignment",
     "output_type": "error",
     "traceback": [
      "\u001b[1;31m---------------------------------------------------------------------------\u001b[0m",
      "\u001b[1;31mTypeError\u001b[0m                                 Traceback (most recent call last)",
      "\u001b[1;32m<ipython-input-50-e35e544a3d02>\u001b[0m in \u001b[0;36m<module>\u001b[1;34m\u001b[0m\n\u001b[0;32m      1\u001b[0m \u001b[0mstring\u001b[0m\u001b[1;33m=\u001b[0m\u001b[1;34m\"Hello Sri\"\u001b[0m\u001b[1;33m\u001b[0m\u001b[1;33m\u001b[0m\u001b[0m\n\u001b[1;32m----> 2\u001b[1;33m \u001b[0mstring\u001b[0m\u001b[1;33m[\u001b[0m\u001b[1;36m1\u001b[0m\u001b[1;33m]\u001b[0m\u001b[1;33m=\u001b[0m\u001b[1;34m\"i\"\u001b[0m\u001b[1;33m\u001b[0m\u001b[1;33m\u001b[0m\u001b[0m\n\u001b[0m\u001b[0;32m      3\u001b[0m \u001b[1;32mdel\u001b[0m \u001b[0mstring\u001b[0m\u001b[1;33m[\u001b[0m\u001b[1;36m2\u001b[0m\u001b[1;33m]\u001b[0m\u001b[1;33m\u001b[0m\u001b[1;33m\u001b[0m\u001b[0m\n",
      "\u001b[1;31mTypeError\u001b[0m: 'str' object does not support item assignment"
     ]
    }
   ],
   "source": [
    "string=\"Hello Sri\"\n",
    "string[1]=\"i\"\n",
    "del string[2]"
   ]
  },
  {
   "cell_type": "code",
   "execution_count": 51,
   "id": "aa40d9f6",
   "metadata": {},
   "outputs": [
    {
     "name": "stdout",
     "output_type": "stream",
     "text": [
      "[]\n"
     ]
    }
   ],
   "source": [
    "List=[]\n",
    "print(List)"
   ]
  },
  {
   "cell_type": "code",
   "execution_count": 52,
   "id": "be15d2d6",
   "metadata": {},
   "outputs": [
    {
     "name": "stdout",
     "output_type": "stream",
     "text": [
      "['AUM', 'NAMO']\n"
     ]
    }
   ],
   "source": [
    "List=[\"AUM\",\"NAMO\"]\n",
    "print(List)"
   ]
  },
  {
   "cell_type": "code",
   "execution_count": 53,
   "id": "eac17ce3",
   "metadata": {},
   "outputs": [
    {
     "name": "stdout",
     "output_type": "stream",
     "text": [
      "[['AUM', 'NAMAH'], ['SHIVAYA']]\n"
     ]
    }
   ],
   "source": [
    "List=[['AUM','NAMAH'],['SHIVAYA']]\n",
    "print(List)"
   ]
  },
  {
   "cell_type": "code",
   "execution_count": 54,
   "id": "455710c6",
   "metadata": {},
   "outputs": [
    {
     "name": "stdout",
     "output_type": "stream",
     "text": [
      "[1, 2]\n"
     ]
    }
   ],
   "source": [
    "List=[]\n",
    "List.append(1)\n",
    "List.append(2)\n",
    "print(List)"
   ]
  },
  {
   "cell_type": "code",
   "execution_count": 69,
   "id": "55b1ee0f",
   "metadata": {},
   "outputs": [
    {
     "name": "stdout",
     "output_type": "stream",
     "text": [
      "[1, 3, 3, 2]\n"
     ]
    }
   ],
   "source": [
    "List.insert(1,3)\n",
    "print(List)"
   ]
  },
  {
   "cell_type": "code",
   "execution_count": 70,
   "id": "39694d76",
   "metadata": {},
   "outputs": [
    {
     "name": "stdout",
     "output_type": "stream",
     "text": [
      "[1, 3, 2]\n"
     ]
    }
   ],
   "source": [
    "# remove the first occurrence of element from 0 index\n",
    "List.remove(3)\n",
    "print(List)"
   ]
  },
  {
   "cell_type": "code",
   "execution_count": 71,
   "id": "009e7ca6",
   "metadata": {},
   "outputs": [
    {
     "name": "stdout",
     "output_type": "stream",
     "text": [
      "[1, 3, 2, 4]\n"
     ]
    }
   ],
   "source": [
    "List.insert(3,4)\n",
    "print(List)"
   ]
  },
  {
   "cell_type": "code",
   "execution_count": 72,
   "id": "cb68ddd1",
   "metadata": {},
   "outputs": [
    {
     "name": "stdout",
     "output_type": "stream",
     "text": [
      "[1, 3, 2, 4, 3]\n"
     ]
    }
   ],
   "source": [
    "List.insert(4,3)\n",
    "print(List)"
   ]
  },
  {
   "cell_type": "code",
   "execution_count": 73,
   "id": "98609c88",
   "metadata": {},
   "outputs": [
    {
     "name": "stdout",
     "output_type": "stream",
     "text": [
      "[1, 2, 4, 3]\n"
     ]
    }
   ],
   "source": [
    "List.remove(3)\n",
    "print(List)"
   ]
  },
  {
   "cell_type": "code",
   "execution_count": 75,
   "id": "84fe08a3",
   "metadata": {},
   "outputs": [
    {
     "name": "stdout",
     "output_type": "stream",
     "text": [
      "2\n"
     ]
    },
    {
     "ename": "IndexError",
     "evalue": "list index out of range",
     "output_type": "error",
     "traceback": [
      "\u001b[1;31m---------------------------------------------------------------------------\u001b[0m",
      "\u001b[1;31mIndexError\u001b[0m                                Traceback (most recent call last)",
      "\u001b[1;32m<ipython-input-75-d0ecee0e6c99>\u001b[0m in \u001b[0;36m<module>\u001b[1;34m\u001b[0m\n\u001b[0;32m      1\u001b[0m \u001b[0mprint\u001b[0m\u001b[1;33m(\u001b[0m\u001b[0mList\u001b[0m\u001b[1;33m[\u001b[0m\u001b[1;36m1\u001b[0m\u001b[1;33m]\u001b[0m\u001b[1;33m)\u001b[0m\u001b[1;33m\u001b[0m\u001b[1;33m\u001b[0m\u001b[0m\n\u001b[1;32m----> 2\u001b[1;33m \u001b[0mprint\u001b[0m\u001b[1;33m(\u001b[0m\u001b[0mList\u001b[0m\u001b[1;33m[\u001b[0m\u001b[1;36m4\u001b[0m\u001b[1;33m]\u001b[0m\u001b[1;33m)\u001b[0m\u001b[1;33m\u001b[0m\u001b[1;33m\u001b[0m\u001b[0m\n\u001b[0m\u001b[0;32m      3\u001b[0m \u001b[0mprint\u001b[0m\u001b[1;33m(\u001b[0m\u001b[0mList\u001b[0m\u001b[1;33m[\u001b[0m\u001b[1;33m-\u001b[0m\u001b[1;36m1\u001b[0m\u001b[1;33m]\u001b[0m\u001b[1;33m)\u001b[0m\u001b[1;33m\u001b[0m\u001b[1;33m\u001b[0m\u001b[0m\n\u001b[0;32m      4\u001b[0m \u001b[0mprint\u001b[0m\u001b[1;33m(\u001b[0m\u001b[0mList\u001b[0m\u001b[1;33m[\u001b[0m\u001b[1;33m-\u001b[0m\u001b[1;36m3\u001b[0m\u001b[1;33m]\u001b[0m\u001b[1;33m)\u001b[0m\u001b[1;33m\u001b[0m\u001b[1;33m\u001b[0m\u001b[0m\n",
      "\u001b[1;31mIndexError\u001b[0m: list index out of range"
     ]
    }
   ],
   "source": [
    "print(List[1])\n",
    "print(List[4])\n",
    "print(List[-1])\n",
    "print(List[-3])"
   ]
  },
  {
   "cell_type": "code",
   "execution_count": 78,
   "id": "ab4f47c1",
   "metadata": {},
   "outputs": [
    {
     "name": "stdout",
     "output_type": "stream",
     "text": [
      "2\n",
      "3\n",
      "3\n",
      "2\n"
     ]
    }
   ],
   "source": [
    "print(List[1])\n",
    "print(List[3])\n",
    "print(List[-1])\n",
    "print(List[-3])"
   ]
  },
  {
   "cell_type": "code",
   "execution_count": 79,
   "id": "fec8a5bc",
   "metadata": {},
   "outputs": [
    {
     "name": "stdout",
     "output_type": "stream",
     "text": [
      "[1, 2, 4, 3]\n"
     ]
    }
   ],
   "source": [
    "print(List)"
   ]
  },
  {
   "cell_type": "code",
   "execution_count": 89,
   "id": "954e782a",
   "metadata": {},
   "outputs": [
    {
     "name": "stdout",
     "output_type": "stream",
     "text": [
      "[1, 2, 4, 3, 4, 3, 4, 3, 4, 3, 4, 3]\n"
     ]
    }
   ],
   "source": [
    "List.append(4)\n",
    "List.append(3)\n",
    "print(List)"
   ]
  },
  {
   "cell_type": "code",
   "execution_count": 92,
   "id": "6b143e04",
   "metadata": {},
   "outputs": [
    {
     "name": "stdout",
     "output_type": "stream",
     "text": [
      "[1, 2, 4, 3, 4, 3]\n"
     ]
    }
   ],
   "source": [
    "List.remove(4)\n",
    "List.remove(3)\n",
    "print(List)"
   ]
  },
  {
   "cell_type": "code",
   "execution_count": 94,
   "id": "fb426418",
   "metadata": {},
   "outputs": [
    {
     "name": "stdout",
     "output_type": "stream",
     "text": [
      "[1, 2, 4, 3]\n"
     ]
    }
   ],
   "source": [
    "List.pop()\n",
    "print(List)"
   ]
  },
  {
   "cell_type": "code",
   "execution_count": 96,
   "id": "922489a1",
   "metadata": {},
   "outputs": [
    {
     "name": "stdout",
     "output_type": "stream",
     "text": [
      "[1, 2]\n"
     ]
    }
   ],
   "source": [
    "List.pop()\n",
    "print(List)"
   ]
  },
  {
   "cell_type": "code",
   "execution_count": 97,
   "id": "b8c17f74",
   "metadata": {},
   "outputs": [
    {
     "name": "stdout",
     "output_type": "stream",
     "text": [
      "(1, 2, 3)\n"
     ]
    }
   ],
   "source": [
    "Tuple=1,2,3\n",
    "print(Tuple)"
   ]
  },
  {
   "cell_type": "code",
   "execution_count": 98,
   "id": "7284216f",
   "metadata": {},
   "outputs": [
    {
     "name": "stdout",
     "output_type": "stream",
     "text": [
      "(1, 2, 3)\n"
     ]
    }
   ],
   "source": [
    "Tuple1=(1,2,3)\n",
    "print(Tuple1)"
   ]
  },
  {
   "cell_type": "code",
   "execution_count": 99,
   "id": "69cb10b0",
   "metadata": {},
   "outputs": [
    {
     "name": "stdout",
     "output_type": "stream",
     "text": [
      "('Sri', 'Ram')\n"
     ]
    }
   ],
   "source": [
    "print(('Sri', 'Ram'))"
   ]
  },
  {
   "cell_type": "code",
   "execution_count": 100,
   "id": "fab970f3",
   "metadata": {},
   "outputs": [
    {
     "name": "stdout",
     "output_type": "stream",
     "text": [
      "('Sri', 'Ram')\n"
     ]
    }
   ],
   "source": [
    "print(tuple(['Sri', 'Ram']))"
   ]
  },
  {
   "cell_type": "code",
   "execution_count": 101,
   "id": "48adc058",
   "metadata": {},
   "outputs": [
    {
     "name": "stdout",
     "output_type": "stream",
     "text": [
      "(4, 5, 6)\n"
     ]
    }
   ],
   "source": [
    "Tuple2=(4,5,6)\n",
    "print(Tuple2)"
   ]
  },
  {
   "cell_type": "code",
   "execution_count": 102,
   "id": "7e8dd410",
   "metadata": {},
   "outputs": [
    {
     "name": "stdout",
     "output_type": "stream",
     "text": [
      "((1, 2, 3), (4, 5, 6))\n"
     ]
    }
   ],
   "source": [
    "Tuple3=(Tuple1,Tuple2)\n",
    "print(Tuple3)"
   ]
  },
  {
   "cell_type": "code",
   "execution_count": 105,
   "id": "28051eb9",
   "metadata": {},
   "outputs": [
    {
     "ename": "TypeError",
     "evalue": "tuple expected at most 1 argument, got 6",
     "output_type": "error",
     "traceback": [
      "\u001b[1;31m---------------------------------------------------------------------------\u001b[0m",
      "\u001b[1;31mTypeError\u001b[0m                                 Traceback (most recent call last)",
      "\u001b[1;32m<ipython-input-105-f99ca5404d7e>\u001b[0m in \u001b[0;36m<module>\u001b[1;34m\u001b[0m\n\u001b[1;32m----> 1\u001b[1;33m \u001b[0mTuple4\u001b[0m\u001b[1;33m=\u001b[0m\u001b[0mtuple\u001b[0m\u001b[1;33m(\u001b[0m\u001b[1;36m1\u001b[0m\u001b[1;33m,\u001b[0m\u001b[1;36m2\u001b[0m\u001b[1;33m,\u001b[0m\u001b[1;36m3\u001b[0m\u001b[1;33m,\u001b[0m\u001b[1;36m4\u001b[0m\u001b[1;33m,\u001b[0m\u001b[1;36m5\u001b[0m\u001b[1;33m,\u001b[0m\u001b[1;36m6\u001b[0m\u001b[1;33m)\u001b[0m\u001b[1;33m\u001b[0m\u001b[1;33m\u001b[0m\u001b[0m\n\u001b[0m\u001b[0;32m      2\u001b[0m \u001b[0mprint\u001b[0m\u001b[1;33m(\u001b[0m\u001b[0mTuple4\u001b[0m\u001b[1;33m)\u001b[0m\u001b[1;33m\u001b[0m\u001b[1;33m\u001b[0m\u001b[0m\n",
      "\u001b[1;31mTypeError\u001b[0m: tuple expected at most 1 argument, got 6"
     ]
    }
   ],
   "source": [
    "Tuple4=tuple(1,2,3,4,5,6)\n",
    "print(Tuple4)"
   ]
  },
  {
   "cell_type": "code",
   "execution_count": 106,
   "id": "dc0aad76",
   "metadata": {},
   "outputs": [
    {
     "name": "stdout",
     "output_type": "stream",
     "text": [
      "(1, 2, 3, 4, 5, 6)\n"
     ]
    }
   ],
   "source": [
    "Tuple4=tuple([1,2,3,4,5,6])\n",
    "print(Tuple4)"
   ]
  },
  {
   "cell_type": "code",
   "execution_count": 107,
   "id": "f1fc9554",
   "metadata": {},
   "outputs": [
    {
     "name": "stdout",
     "output_type": "stream",
     "text": [
      "5\n",
      "3\n"
     ]
    }
   ],
   "source": [
    "print(Tuple4[4])\n",
    "print(Tuple4[-4])"
   ]
  },
  {
   "cell_type": "code",
   "execution_count": 108,
   "id": "6d028527",
   "metadata": {},
   "outputs": [
    {
     "ename": "TypeError",
     "evalue": "'tuple' object does not support item assignment",
     "output_type": "error",
     "traceback": [
      "\u001b[1;31m---------------------------------------------------------------------------\u001b[0m",
      "\u001b[1;31mTypeError\u001b[0m                                 Traceback (most recent call last)",
      "\u001b[1;32m<ipython-input-108-f444852e306b>\u001b[0m in \u001b[0;36m<module>\u001b[1;34m\u001b[0m\n\u001b[1;32m----> 1\u001b[1;33m \u001b[0mTuple4\u001b[0m\u001b[1;33m[\u001b[0m\u001b[1;36m5\u001b[0m\u001b[1;33m]\u001b[0m\u001b[1;33m=\u001b[0m\u001b[1;36m7\u001b[0m\u001b[1;33m\u001b[0m\u001b[1;33m\u001b[0m\u001b[0m\n\u001b[0m",
      "\u001b[1;31mTypeError\u001b[0m: 'tuple' object does not support item assignment"
     ]
    }
   ],
   "source": [
    "Tuple4[5]=7"
   ]
  },
  {
   "cell_type": "code",
   "execution_count": 109,
   "id": "6478cea6",
   "metadata": {},
   "outputs": [
    {
     "ename": "TypeError",
     "evalue": "'tuple' object doesn't support item deletion",
     "output_type": "error",
     "traceback": [
      "\u001b[1;31m---------------------------------------------------------------------------\u001b[0m",
      "\u001b[1;31mTypeError\u001b[0m                                 Traceback (most recent call last)",
      "\u001b[1;32m<ipython-input-109-dff6e5463212>\u001b[0m in \u001b[0;36m<module>\u001b[1;34m\u001b[0m\n\u001b[1;32m----> 1\u001b[1;33m \u001b[1;32mdel\u001b[0m \u001b[0mTuple4\u001b[0m\u001b[1;33m[\u001b[0m\u001b[1;36m5\u001b[0m\u001b[1;33m]\u001b[0m\u001b[1;33m\u001b[0m\u001b[1;33m\u001b[0m\u001b[0m\n\u001b[0m",
      "\u001b[1;31mTypeError\u001b[0m: 'tuple' object doesn't support item deletion"
     ]
    }
   ],
   "source": [
    "del Tuple4[5]"
   ]
  },
  {
   "cell_type": "code",
   "execution_count": 110,
   "id": "998845d5",
   "metadata": {},
   "outputs": [
    {
     "name": "stdout",
     "output_type": "stream",
     "text": [
      "<class 'bool'>\n",
      "<class 'bool'>\n"
     ]
    }
   ],
   "source": [
    "print(type(True))\n",
    "print(type(False))"
   ]
  },
  {
   "cell_type": "code",
   "execution_count": 111,
   "id": "31170999",
   "metadata": {},
   "outputs": [
    {
     "name": "stdout",
     "output_type": "stream",
     "text": [
      "False\n"
     ]
    }
   ],
   "source": [
    "print(0>1)"
   ]
  },
  {
   "cell_type": "code",
   "execution_count": 112,
   "id": "1beb7073",
   "metadata": {},
   "outputs": [
    {
     "name": "stdout",
     "output_type": "stream",
     "text": [
      "False\n"
     ]
    }
   ],
   "source": [
    "print('z'=='Z')"
   ]
  },
  {
   "cell_type": "code",
   "execution_count": 113,
   "id": "8d7bd77c",
   "metadata": {},
   "outputs": [
    {
     "name": "stdout",
     "output_type": "stream",
     "text": [
      "True\n"
     ]
    }
   ],
   "source": [
    "print('z'=='z')"
   ]
  },
  {
   "cell_type": "code",
   "execution_count": 114,
   "id": "d6c67038",
   "metadata": {},
   "outputs": [
    {
     "name": "stdout",
     "output_type": "stream",
     "text": [
      "{1, 2, 3}\n"
     ]
    }
   ],
   "source": [
    "Set={1,2,3}\n",
    "print(Set)"
   ]
  },
  {
   "cell_type": "code",
   "execution_count": 117,
   "id": "e344dc83",
   "metadata": {},
   "outputs": [
    {
     "ename": "TypeError",
     "evalue": "set expected at most 1 argument, got 3",
     "output_type": "error",
     "traceback": [
      "\u001b[1;31m---------------------------------------------------------------------------\u001b[0m",
      "\u001b[1;31mTypeError\u001b[0m                                 Traceback (most recent call last)",
      "\u001b[1;32m<ipython-input-117-7bf326a0c654>\u001b[0m in \u001b[0;36m<module>\u001b[1;34m\u001b[0m\n\u001b[1;32m----> 1\u001b[1;33m \u001b[0mSet1\u001b[0m\u001b[1;33m=\u001b[0m\u001b[0mset\u001b[0m\u001b[1;33m(\u001b[0m\u001b[1;36m1\u001b[0m\u001b[1;33m,\u001b[0m\u001b[1;36m2\u001b[0m\u001b[1;33m,\u001b[0m\u001b[1;36m3\u001b[0m\u001b[1;33m)\u001b[0m\u001b[1;33m\u001b[0m\u001b[1;33m\u001b[0m\u001b[0m\n\u001b[0m\u001b[0;32m      2\u001b[0m \u001b[0mprint\u001b[0m\u001b[1;33m(\u001b[0m\u001b[0mSet1\u001b[0m\u001b[1;33m)\u001b[0m\u001b[1;33m\u001b[0m\u001b[1;33m\u001b[0m\u001b[0m\n",
      "\u001b[1;31mTypeError\u001b[0m: set expected at most 1 argument, got 3"
     ]
    }
   ],
   "source": [
    "Set1=set(1,2,3)\n",
    "print(Set1)"
   ]
  },
  {
   "cell_type": "code",
   "execution_count": 118,
   "id": "da7ee7f9",
   "metadata": {},
   "outputs": [
    {
     "name": "stdout",
     "output_type": "stream",
     "text": [
      "{1, 2, 3}\n"
     ]
    }
   ],
   "source": [
    "Set1=set([1,2,3])\n",
    "print(Set1)"
   ]
  },
  {
   "cell_type": "code",
   "execution_count": 120,
   "id": "0ab5c221",
   "metadata": {},
   "outputs": [
    {
     "name": "stdout",
     "output_type": "stream",
     "text": [
      "{'Sri', 'Ram'}\n"
     ]
    }
   ],
   "source": [
    "Set2=set([\"Sri\",\"Ram\"])\n",
    "print(Set2)"
   ]
  },
  {
   "cell_type": "code",
   "execution_count": 121,
   "id": "2c5a89e3",
   "metadata": {},
   "outputs": [
    {
     "name": "stdout",
     "output_type": "stream",
     "text": [
      "set()\n"
     ]
    }
   ],
   "source": [
    "Set3=set()\n",
    "print(Set3)"
   ]
  },
  {
   "cell_type": "code",
   "execution_count": 122,
   "id": "648a0f32",
   "metadata": {},
   "outputs": [
    {
     "name": "stdout",
     "output_type": "stream",
     "text": [
      "{8, (6, 7)}\n"
     ]
    }
   ],
   "source": [
    "Set3.add(8)\n",
    "Set3.add((6,7))\n",
    "print(Set3)"
   ]
  },
  {
   "cell_type": "code",
   "execution_count": 123,
   "id": "f3785957",
   "metadata": {},
   "outputs": [
    {
     "name": "stdout",
     "output_type": "stream",
     "text": [
      "{8, (6, 7), 10, 11}\n"
     ]
    }
   ],
   "source": [
    "Set3.update([10,11])\n",
    "print(Set3)"
   ]
  },
  {
   "cell_type": "code",
   "execution_count": 124,
   "id": "fe498a2b",
   "metadata": {},
   "outputs": [
    {
     "name": "stdout",
     "output_type": "stream",
     "text": [
      "8 (6, 7) 10 11 "
     ]
    }
   ],
   "source": [
    "for i in Set3:\n",
    "    print(i, end=\" \")"
   ]
  },
  {
   "cell_type": "code",
   "execution_count": 125,
   "id": "b0bf45bf",
   "metadata": {},
   "outputs": [
    {
     "name": "stdout",
     "output_type": "stream",
     "text": [
      "{8, (6, 7), 11}\n"
     ]
    }
   ],
   "source": [
    "Set3.remove(10)\n",
    "print(Set3)"
   ]
  },
  {
   "cell_type": "code",
   "execution_count": 126,
   "id": "3bb911b2",
   "metadata": {},
   "outputs": [
    {
     "name": "stdout",
     "output_type": "stream",
     "text": [
      "{(6, 7), 11}\n"
     ]
    }
   ],
   "source": [
    "Set3.pop()\n",
    "print(Set3)"
   ]
  },
  {
   "cell_type": "code",
   "execution_count": 127,
   "id": "a42bbd95",
   "metadata": {},
   "outputs": [
    {
     "name": "stdout",
     "output_type": "stream",
     "text": [
      "set()\n"
     ]
    }
   ],
   "source": [
    "Set3.clear()\n",
    "print(Set3)"
   ]
  },
  {
   "cell_type": "code",
   "execution_count": 128,
   "id": "f2f0099c",
   "metadata": {},
   "outputs": [
    {
     "name": "stdout",
     "output_type": "stream",
     "text": [
      "{}\n"
     ]
    }
   ],
   "source": [
    "Dict={}\n",
    "print(Dict)"
   ]
  },
  {
   "cell_type": "code",
   "execution_count": 129,
   "id": "1e93ace3",
   "metadata": {},
   "outputs": [
    {
     "name": "stdout",
     "output_type": "stream",
     "text": [
      "{1: 'Sri', 2: 'Ram'}\n"
     ]
    }
   ],
   "source": [
    "Dict={1:'Sri',2:'Ram'}\n",
    "print(Dict)"
   ]
  },
  {
   "cell_type": "code",
   "execution_count": 130,
   "id": "7310cefb",
   "metadata": {},
   "outputs": [
    {
     "name": "stdout",
     "output_type": "stream",
     "text": [
      "{'Name': 'Sri', 2: [1, 2, 3, 4]}\n"
     ]
    }
   ],
   "source": [
    "Dict={'Name':'Sri', 2:[1,2,3,4]}\n",
    "print(Dict)"
   ]
  },
  {
   "cell_type": "code",
   "execution_count": 131,
   "id": "3d894c0c",
   "metadata": {},
   "outputs": [
    {
     "name": "stdout",
     "output_type": "stream",
     "text": [
      "{'Name': 'Sri', 2: 'Hanuman', 0: 'Jai', 3: 4}\n"
     ]
    }
   ],
   "source": [
    "Dict[0]='Jai'\n",
    "Dict[2]='Hanuman'\n",
    "Dict[3]=4\n",
    "print(Dict)"
   ]
  },
  {
   "cell_type": "code",
   "execution_count": 132,
   "id": "1e233a48",
   "metadata": {},
   "outputs": [
    {
     "name": "stdout",
     "output_type": "stream",
     "text": [
      "Hanuman\n"
     ]
    }
   ],
   "source": [
    "print(Dict[2])"
   ]
  },
  {
   "cell_type": "code",
   "execution_count": 133,
   "id": "ff63e00d",
   "metadata": {},
   "outputs": [
    {
     "name": "stdout",
     "output_type": "stream",
     "text": [
      "Jai\n"
     ]
    }
   ],
   "source": [
    "print(Dict.get(0))"
   ]
  },
  {
   "cell_type": "code",
   "execution_count": 134,
   "id": "f699b0b1",
   "metadata": {},
   "outputs": [
    {
     "name": "stdout",
     "output_type": "stream",
     "text": [
      "{'Name': 'Sri', 0: 'Jai', 3: 4}\n"
     ]
    }
   ],
   "source": [
    "Dict.pop(2)\n",
    "print(Dict)"
   ]
  },
  {
   "cell_type": "code",
   "execution_count": 135,
   "id": "92752e18",
   "metadata": {},
   "outputs": [
    {
     "data": {
      "text/plain": [
       "(3, 4)"
      ]
     },
     "execution_count": 135,
     "metadata": {},
     "output_type": "execute_result"
    }
   ],
   "source": [
    "Dict.popitem()"
   ]
  },
  {
   "cell_type": "code",
   "execution_count": 136,
   "id": "88bb1735",
   "metadata": {},
   "outputs": [
    {
     "name": "stdout",
     "output_type": "stream",
     "text": [
      "{'Name': 'Sri', 0: 'Jai'}\n"
     ]
    }
   ],
   "source": [
    "print(Dict)"
   ]
  },
  {
   "cell_type": "code",
   "execution_count": 137,
   "id": "61b528e8",
   "metadata": {},
   "outputs": [
    {
     "name": "stdout",
     "output_type": "stream",
     "text": [
      "x:  10\n",
      "y:  20\n"
     ]
    }
   ],
   "source": [
    "# default arguments\n",
    "def func1(x, y=20):\n",
    "    print(\"x: \", x)\n",
    "    print(\"y: \", y)\n",
    "func1(10)"
   ]
  },
  {
   "cell_type": "code",
   "execution_count": null,
   "id": "36524f04",
   "metadata": {},
   "outputs": [],
   "source": []
  }
 ],
 "metadata": {
  "kernelspec": {
   "display_name": "Python 3",
   "language": "python",
   "name": "python3"
  },
  "language_info": {
   "codemirror_mode": {
    "name": "ipython",
    "version": 3
   },
   "file_extension": ".py",
   "mimetype": "text/x-python",
   "name": "python",
   "nbconvert_exporter": "python",
   "pygments_lexer": "ipython3",
   "version": "3.9.6"
  }
 },
 "nbformat": 4,
 "nbformat_minor": 5
}
